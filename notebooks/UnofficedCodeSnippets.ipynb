{
 "cells": [
  {
   "cell_type": "code",
   "execution_count": null,
   "id": "919754c8-aad5-4876-9101-a37ce37cc37d",
   "metadata": {},
   "outputs": [],
   "source": [
    "!pwd"
   ]
  },
  {
   "cell_type": "markdown",
   "id": "2ddfa141-ee1e-4622-8dbf-0ab29ebafea7",
   "metadata": {
    "id": "qHaxqDySIow_"
   },
   "source": [
    "# Importing Libraries"
   ]
  },
  {
   "cell_type": "code",
   "execution_count": 1,
   "id": "c6c9fb6e-875e-4e96-969a-b07393946843",
   "metadata": {
    "executionInfo": {
     "elapsed": 16229,
     "status": "ok",
     "timestamp": 1702977592058,
     "user": {
      "displayName": "Shankar Narayanan G R",
      "userId": "06073656442154612321"
     },
     "user_tz": -330
    },
    "id": "f_gA3V_fIqlA",
    "tags": []
   },
   "outputs": [],
   "source": [
    "# Import basic libraries\n",
    "import pandas as pd\n",
    "\n",
    "pd.set_option(\"display.max_columns\", None)\n",
    "\n",
    "from nsepythonserver import *"
   ]
  },
  {
   "cell_type": "markdown",
   "id": "fe7d1786-a817-40ba-bcda-f0bfabfe754e",
   "metadata": {
    "id": "MPQtlc-9jgpC",
    "tags": []
   },
   "source": [
    "# Nifty Data Download - NiftyDf"
   ]
  },
  {
   "cell_type": "markdown",
   "id": "03c6a306-5747-4d9e-9c05-f2f15f2ca333",
   "metadata": {
    "tags": []
   },
   "source": [
    "## Using Unofficed Functions"
   ]
  },
  {
   "cell_type": "code",
   "execution_count": null,
   "id": "38809a24-4d51-463a-b260-0b1a20e63714",
   "metadata": {
    "colab": {
     "base_uri": "https://localhost:8080/"
    },
    "executionInfo": {
     "elapsed": 4298,
     "status": "ok",
     "timestamp": 1702963400593,
     "user": {
      "displayName": "Shankar Narayanan G R",
      "userId": "06073656442154612321"
     },
     "user_tz": -330
    },
    "id": "lipHnqJNjgpC",
    "outputId": "fabcb8de-7c40-4a77-a240-6a5490aec6bc"
   },
   "outputs": [],
   "source": [
    "# Unofficed Function\n",
    "\n",
    "# symbol = \"NIFTY 50\"\n",
    "# start_date = \"01-Jan-2000\"\n",
    "# end_date = \"30-Nov-2023\"\n",
    "# NiftyDf = index_history(symbol, start_date, end_date)\n",
    "# NiftyDf"
   ]
  },
  {
   "cell_type": "code",
   "execution_count": null,
   "id": "78a13a7c-7ee8-4862-bad2-21c8227d2f77",
   "metadata": {
    "id": "wb9GVFrljgpD"
   },
   "outputs": [],
   "source": [
    "# # Define your path\n",
    "# file_path = \"/home/shankar/MEGAsync/6MyProjectsData/test_poetry_project/data/raw/nifty_historic.csv\"\n",
    "\n",
    "# # Save the DataFrame to the specified path\n",
    "# NiftyDf.to_csv(file_path, index=False)"
   ]
  },
  {
   "cell_type": "markdown",
   "id": "f114705d-2c9c-46f6-b380-39f14d4f126f",
   "metadata": {
    "id": "ZtfINPTejgpE",
    "tags": []
   },
   "source": [
    "# IndiaVIX data Download - IndiaVixDf"
   ]
  },
  {
   "cell_type": "markdown",
   "id": "b9ef63d2-5cde-429e-96cd-1dd392d5523e",
   "metadata": {
    "tags": []
   },
   "source": [
    "## Using Unofficed Functions"
   ]
  },
  {
   "cell_type": "code",
   "execution_count": null,
   "id": "32dafd0a-ebce-4022-8a5a-aa12523c01d6",
   "metadata": {
    "id": "-yZIT6yKjgpE"
   },
   "outputs": [],
   "source": [
    "# def indiavix_history_virgin(start_date, end_date):\n",
    "#     # url=\"https://www.nseindia.com/api/historical/cm/equity?symbol=\"+symbol+\"&series=[%22\"+series+\"%22]&from=\"+str(start_date)+\"&to=\"+str(end_date)+\"\"\n",
    "#     # https://www.nseindia.com/api/historical/vixhistory?from=14-12-2022&to=14-12-2023\n",
    "#     url = (\n",
    "#         \"https://www.nseindia.com/api/historical/vixhistory?from=\"\n",
    "#         + start_date\n",
    "#         + \"&to=\"\n",
    "#         + end_date\n",
    "#     )\n",
    "\n",
    "#     payload = nsefetch(url)\n",
    "#     return pd.DataFrame.from_records(payload[\"data\"])"
   ]
  },
  {
   "cell_type": "code",
   "execution_count": null,
   "id": "d9230d72-2f48-419a-8256-80b7ee584c8d",
   "metadata": {
    "id": "K1gKjgU5jgpF"
   },
   "outputs": [],
   "source": [
    "# Testing indiavix_history_virging function\n",
    "\n",
    "# start_date = \"14-12-2022\"\n",
    "# end_date =\"14-12-2023\"\n",
    "# print(indiavix_history_virgin(start_date,end_date))"
   ]
  },
  {
   "cell_type": "code",
   "execution_count": null,
   "id": "f45b8d8e-e9d3-45e3-80e6-50ec0bdc2202",
   "metadata": {
    "id": "qo9YVay_jgpF"
   },
   "outputs": [],
   "source": [
    "# # You shall see beautiful use the logger function.\n",
    "# def indiavix_history(start_date, end_date):\n",
    "#     # We are getting the input in text. So it is being converted to Datetime object from String.\n",
    "#     start_date = datetime.datetime.strptime(start_date, \"%d-%m-%Y\")\n",
    "#     end_date = datetime.datetime.strptime(end_date, \"%d-%m-%Y\")\n",
    "#     logging.info(\"Starting Date: \" + str(start_date))\n",
    "#     logging.info(\"Ending Date: \" + str(end_date))\n",
    "\n",
    "#     # We are calculating the difference between the days\n",
    "#     diff = end_date - start_date\n",
    "#     logging.info(\"Total Number of Days: \" + str(diff.days))\n",
    "#     logging.info(\"Total FOR Loops in the program: \" + str(int(diff.days / 40)))\n",
    "#     logging.info(\"Remainder Loop: \" + str(diff.days - (int(diff.days / 40) * 40)))\n",
    "\n",
    "#     total = pd.DataFrame()\n",
    "#     for i in range(0, int(diff.days / 40)):\n",
    "#         temp_date = (start_date + datetime.timedelta(days=(40))).strftime(\"%d-%m-%Y\")\n",
    "#         start_date = datetime.datetime.strftime(start_date, \"%d-%m-%Y\")\n",
    "\n",
    "#         logging.info(\"Loop = \" + str(i))\n",
    "#         logging.info(\"====\")\n",
    "#         logging.info(\"Starting Date: \" + str(start_date))\n",
    "#         logging.info(\"Ending Date: \" + str(temp_date))\n",
    "#         logging.info(\"====\")\n",
    "\n",
    "#         # total=total.append(equity_history_virgin(symbol,series,start_date,temp_date))\n",
    "#         # total=total.concat(equity_history_virgin(symbol,series,start_date,temp_date))\n",
    "#         total = pd.concat([total, indiavix_history_virgin(start_date, temp_date)])\n",
    "\n",
    "#         logging.info(\"Length of the Table: \" + str(len(total)))\n",
    "\n",
    "#         # Preparation for the next loop\n",
    "#         start_date = datetime.datetime.strptime(temp_date, \"%d-%m-%Y\")\n",
    "\n",
    "#     start_date = datetime.datetime.strftime(start_date, \"%d-%m-%Y\")\n",
    "#     end_date = datetime.datetime.strftime(end_date, \"%d-%m-%Y\")\n",
    "\n",
    "#     logging.info(\"End Loop\")\n",
    "#     logging.info(\"====\")\n",
    "#     logging.info(\"Starting Date: \" + str(start_date))\n",
    "#     logging.info(\"Ending Date: \" + str(end_date))\n",
    "#     logging.info(\"====\")\n",
    "\n",
    "#     # total=total.append(equity_history_virgin(symbol,series,start_date,end_date))\n",
    "#     # total=total.concat(equity_history_virgin(symbol,series,start_date,end_date))\n",
    "#     total = pd.concat([total, indiavix_history_virgin(start_date, end_date)])\n",
    "\n",
    "#     logging.info(\"Finale\")\n",
    "#     logging.info(\"Length of the Total Dataset: \" + str(len(total)))\n",
    "#     payload = total.iloc[::-1].reset_index(drop=True)\n",
    "#     return payload"
   ]
  },
  {
   "cell_type": "code",
   "execution_count": null,
   "id": "e8c77f0f-1168-44d7-b109-eb7acc46c164",
   "metadata": {
    "id": "gctZ7aXzjgpG"
   },
   "outputs": [],
   "source": [
    "# print(nsefetch('https://www.nseindia.com/api/historical/vixhistory?from=14-12-2022&to=14-12-2023'))"
   ]
  },
  {
   "cell_type": "code",
   "execution_count": null,
   "id": "f7081bc6-f2a8-4147-a160-f0b3219f3a89",
   "metadata": {
    "colab": {
     "base_uri": "https://localhost:8080/"
    },
    "executionInfo": {
     "elapsed": 109016,
     "status": "ok",
     "timestamp": 1702620035251,
     "user": {
      "displayName": "Shankar Narayanan G R",
      "userId": "06073656442154612321"
     },
     "user_tz": -330
    },
    "id": "fOESKRT-jgpG",
    "outputId": "065ade48-8315-4a00-ebb2-0520af0858d0"
   },
   "outputs": [],
   "source": [
    "# start_date = \"01-01-2000\"\n",
    "# end_date = \"30-11-2023\"\n",
    "# IndiaVixDf = indiavix_history(start_date, end_date)\n",
    "# print(IndiaVixDf)"
   ]
  },
  {
   "cell_type": "code",
   "execution_count": null,
   "id": "df94746c-42a8-4a9f-9301-368138583029",
   "metadata": {
    "colab": {
     "base_uri": "https://localhost:8080/",
     "height": 617
    },
    "executionInfo": {
     "elapsed": 28,
     "status": "ok",
     "timestamp": 1702620035252,
     "user": {
      "displayName": "Shankar Narayanan G R",
      "userId": "06073656442154612321"
     },
     "user_tz": -330
    },
    "id": "SE5MdIGujgpH",
    "outputId": "f1e0aee7-2e3e-400d-d426-529418d68b27"
   },
   "outputs": [],
   "source": [
    "# IndiaVixDf"
   ]
  },
  {
   "cell_type": "code",
   "execution_count": null,
   "id": "ced81a8a-4370-4dea-86cd-8ea68b1f67ea",
   "metadata": {
    "id": "UzMotR-pjgpI",
    "tags": []
   },
   "outputs": [],
   "source": [
    "# # Define your path\n",
    "# file_path = \"/home/shankar/MEGAsync/6MyProjectsData/test_poetry_project/data/raw/indiavix_historic.csv\"\n",
    "\n",
    "# # Save the DataFrame to the specified path\n",
    "# IndiaVixDf.to_csv(file_path, index=False)"
   ]
  },
  {
   "cell_type": "markdown",
   "id": "f92a06b7-dd9e-4d9c-81a5-d8ef666b1868",
   "metadata": {
    "id": "9qBrvv_MI3q2",
    "tags": []
   },
   "source": [
    "# Unofficed Functions Code Snippets from Unofficed.com"
   ]
  },
  {
   "cell_type": "markdown",
   "id": "2d49862e-fbf6-4be4-92c6-468dd938c39d",
   "metadata": {
    "id": "1rFvS6pMjgo5",
    "tags": []
   },
   "source": [
    "## equity_history"
   ]
  },
  {
   "cell_type": "code",
   "execution_count": null,
   "id": "624693d7-3875-4d88-8d67-522c2764a5e4",
   "metadata": {
    "colab": {
     "base_uri": "https://localhost:8080/"
    },
    "executionInfo": {
     "elapsed": 454,
     "status": "ok",
     "timestamp": 1702619842112,
     "user": {
      "displayName": "Shankar Narayanan G R",
      "userId": "06073656442154612321"
     },
     "user_tz": -330
    },
    "id": "KscUlrwzI0Y9",
    "outputId": "52de509c-c91b-4135-918e-0796bf920aa9"
   },
   "outputs": [],
   "source": [
    "# symbol = \"SBIN\"\n",
    "# series = \"EQ\"\n",
    "# start_date = \"08-06-2021\"\n",
    "# end_date = \"14-06-2021\"\n",
    "# print(equity_history(symbol, series, start_date, end_date))"
   ]
  },
  {
   "cell_type": "markdown",
   "id": "6497d8b5-5ecb-4e03-93b3-7d34199b0e95",
   "metadata": {
    "id": "x5D2urvMjgo7",
    "tags": []
   },
   "source": [
    "## derivative_history"
   ]
  },
  {
   "cell_type": "code",
   "execution_count": null,
   "id": "62036d12-cfff-48a7-91f2-75b0bf590155",
   "metadata": {
    "colab": {
     "base_uri": "https://localhost:8080/"
    },
    "executionInfo": {
     "elapsed": 3396,
     "status": "ok",
     "timestamp": 1702619845967,
     "user": {
      "displayName": "Shankar Narayanan G R",
      "userId": "06073656442154612321"
     },
     "user_tz": -330
    },
    "id": "aOMNmoHOjgo7",
    "outputId": "47a8528b-e509-4a9b-edc7-a84f0242106b"
   },
   "outputs": [],
   "source": [
    "# symbol = \"SBIN\"\n",
    "# start_date = \"15-05-2021\"\n",
    "# end_date = \"15-06-2021\"\n",
    "# instrumentType = \"options\"\n",
    "# expiry_date = \"24-Jun-2021\"\n",
    "# strikePrice = 300\n",
    "# optionType = \"PE\"\n",
    "# print(\n",
    "#     derivative_history(\n",
    "#         symbol,\n",
    "#         start_date,\n",
    "#         end_date,\n",
    "#         instrumentType,\n",
    "#         expiry_date,\n",
    "#         strikePrice,\n",
    "#         optionType,\n",
    "#     )\n",
    "# )"
   ]
  },
  {
   "cell_type": "markdown",
   "id": "71e8682a-ab36-4498-b8a2-c0d007d92a3c",
   "metadata": {
    "id": "Da7YiLp5jgo8"
   },
   "source": [
    "## expiry_history"
   ]
  },
  {
   "cell_type": "code",
   "execution_count": null,
   "id": "413d1f51-316b-414c-b3e3-6147a8419667",
   "metadata": {
    "colab": {
     "base_uri": "https://localhost:8080/"
    },
    "executionInfo": {
     "elapsed": 729,
     "status": "ok",
     "timestamp": 1702619846689,
     "user": {
      "displayName": "Shankar Narayanan G R",
      "userId": "06073656442154612321"
     },
     "user_tz": -330
    },
    "id": "tDnGYNakjgo9",
    "outputId": "6dfb7860-de07-4a12-8baf-12b4649eafaa"
   },
   "outputs": [],
   "source": [
    "# symbol = \"SBIN\"\n",
    "# start_date = \"15-05-2020\"\n",
    "# end_date = \"15-06-2021\"\n",
    "\n",
    "# print(expiry_history(symbol, start_date, end_date))\n",
    "# # print(expiry_history(symbol,start_date))\n",
    "# # print(expiry_history(symbol))"
   ]
  },
  {
   "cell_type": "markdown",
   "id": "e0560fce-dde0-4d56-9b99-863c68ca4953",
   "metadata": {
    "id": "EZ9aRuGSjgo9"
   },
   "source": [
    "## index_history"
   ]
  },
  {
   "cell_type": "code",
   "execution_count": null,
   "id": "cdaa711c-8cba-4c35-8ba4-1f3f2f732146",
   "metadata": {
    "colab": {
     "base_uri": "https://localhost:8080/"
    },
    "executionInfo": {
     "elapsed": 3140,
     "status": "ok",
     "timestamp": 1702619849819,
     "user": {
      "displayName": "Shankar Narayanan G R",
      "userId": "06073656442154612321"
     },
     "user_tz": -330
    },
    "id": "b8Y_ipW3jgo-",
    "outputId": "9231293e-b75e-4bf3-ed07-107e766a04e9"
   },
   "outputs": [],
   "source": [
    "# symbol = \"NIFTY 50\"\n",
    "# start_date = \"01-Mar-2011\"\n",
    "# end_date = \"07-Jun-2021\"\n",
    "# print(index_history(symbol, start_date, end_date))"
   ]
  },
  {
   "cell_type": "markdown",
   "id": "6fbf361e-a546-4947-ad49-e65673cee4e4",
   "metadata": {
    "id": "vMs9LsTOjgo_"
   },
   "source": [
    "## index_pe_pb_div"
   ]
  },
  {
   "cell_type": "code",
   "execution_count": null,
   "id": "a95efd38-2696-4545-9025-e8956a19a613",
   "metadata": {
    "colab": {
     "base_uri": "https://localhost:8080/"
    },
    "executionInfo": {
     "elapsed": 1365,
     "status": "ok",
     "timestamp": 1702619851174,
     "user": {
      "displayName": "Shankar Narayanan G R",
      "userId": "06073656442154612321"
     },
     "user_tz": -330
    },
    "id": "8MTFZDRjjgo_",
    "outputId": "2e293586-421f-4d78-ef4d-a1209933b45d"
   },
   "outputs": [],
   "source": [
    "# symbol = \"NIFTY 50\"\n",
    "# start_date = \"01-Mar-2011\"\n",
    "# end_date = \"07-Jun-2021\"\n",
    "# print(index_pe_pb_div(symbol, start_date, end_date))"
   ]
  },
  {
   "cell_type": "markdown",
   "id": "b0e933fa-543f-4948-9455-ef0f0834454f",
   "metadata": {
    "id": "DtMptoKTjgpA"
   },
   "source": [
    "## index_total_returns"
   ]
  },
  {
   "cell_type": "code",
   "execution_count": null,
   "id": "6fc88929-1e52-4273-972b-c0510a71572c",
   "metadata": {
    "colab": {
     "base_uri": "https://localhost:8080/"
    },
    "executionInfo": {
     "elapsed": 2177,
     "status": "ok",
     "timestamp": 1702619853340,
     "user": {
      "displayName": "Shankar Narayanan G R",
      "userId": "06073656442154612321"
     },
     "user_tz": -330
    },
    "id": "mauJmOlcjgpA",
    "outputId": "801fce8a-46d3-4f3f-d0ae-4c72229939ce"
   },
   "outputs": [],
   "source": [
    "# symbol = \"NIFTY 50\"\n",
    "# start_date = \"01-Mar-2011\"\n",
    "# end_date = \"07-Jun-2021\"\n",
    "# print(index_total_returns(symbol, start_date, end_date))"
   ]
  },
  {
   "cell_type": "markdown",
   "id": "e1545c0f-67b6-47da-a1e8-364d7d5339fc",
   "metadata": {
    "id": "FHbSdoe1jgpB"
   },
   "source": [
    "## get_bhavcopy"
   ]
  },
  {
   "cell_type": "code",
   "execution_count": null,
   "id": "7e51a723-8f1e-4431-9e25-b314844365e1",
   "metadata": {
    "colab": {
     "base_uri": "https://localhost:8080/"
    },
    "executionInfo": {
     "elapsed": 461,
     "status": "ok",
     "timestamp": 1702619853794,
     "user": {
      "displayName": "Shankar Narayanan G R",
      "userId": "06073656442154612321"
     },
     "user_tz": -330
    },
    "id": "xjEFQnwFjgpB",
    "outputId": "0042bb2e-b64c-4a8e-9dac-430b3ab25f9c"
   },
   "outputs": [],
   "source": [
    "# print(get_bhavcopy(\"04-06-2021\"))"
   ]
  }
 ],
 "metadata": {
  "kernelspec": {
   "display_name": "Python 3 (ipykernel)",
   "language": "python",
   "name": "python3"
  },
  "language_info": {
   "codemirror_mode": {
    "name": "ipython",
    "version": 3
   },
   "file_extension": ".py",
   "mimetype": "text/x-python",
   "name": "python",
   "nbconvert_exporter": "python",
   "pygments_lexer": "ipython3",
   "version": "3.10.12"
  }
 },
 "nbformat": 4,
 "nbformat_minor": 5
}
