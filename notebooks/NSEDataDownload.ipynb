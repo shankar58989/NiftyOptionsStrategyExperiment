{
 "cells": [
  {
   "cell_type": "code",
   "execution_count": null,
   "id": "188c726e-ce2a-4c29-a167-1ae119670788",
   "metadata": {},
   "outputs": [],
   "source": []
  },
  {
   "cell_type": "markdown",
   "id": "c9257eba-8981-4154-8d3a-76e378e7e34c",
   "metadata": {
    "id": "MPQtlc-9jgpC",
    "tags": []
   },
   "source": [
    "# Nifty Data Download - NiftyDf"
   ]
  },
  {
   "cell_type": "code",
   "execution_count": null,
   "id": "1db6c2b8-755f-49b6-89e1-1d6a5e75ec5c",
   "metadata": {
    "tags": []
   },
   "outputs": [],
   "source": [
    "# # API URL Examples\n",
    "# # https://www.nseindia.com/api/historical/indicesHistory?indexType=NIFTY%2050&from=01-01-2020&to=31-12-2020\n",
    "# # https://www.nseindia.com/api/historical/indicesHistory?indexType=NIFTY%2050&from=01-01-2016&to=31-12-2016\n",
    "\n",
    "# NSENiftyDf = pd.DataFrame()\n",
    "\n",
    "# Year = 2016\n",
    "\n",
    "# for i in range (0, 8):\n",
    "#     print(\"------\")\n",
    "#     print(i)\n",
    "#     print(\"------\")\n",
    "#     StartDate = pd.Timestamp(year=Year, month=1, day=1)\n",
    "#     StartDate = StartDate.strftime(\"%d-%m-%Y\")\n",
    "#     EndDate = pd.Timestamp(year=Year, month=12, day=31)\n",
    "#     EndDate = EndDate.strftime(\"%d-%m-%Y\")\n",
    "#     print(Year)\n",
    "#     print(StartDate)\n",
    "#     print(EndDate)\n",
    "#     TempPositions = nsefetch(f\"https://www.nseindia.com/api/historical/indicesHistory?indexType=NIFTY%2050&from={StartDate}&to={EndDate}\")\n",
    "\n",
    "#     EOD_INDEX_NAME = []\n",
    "#     EOD_OPEN_INDEX_VAL = []\n",
    "#     EOD_HIGH_INDEX_VAL = []\n",
    "#     EOD_CLOSE_INDEX_VAL = []\n",
    "#     EOD_LOW_INDEX_VAL = []\n",
    "#     EOD_TIMESTAMP = []\n",
    "\n",
    "#     for record in TempPositions[\"data\"][\"indexCloseOnlineRecords\"]:\n",
    "#         EOD_INDEX_NAME.append(record[\"EOD_INDEX_NAME\"])\n",
    "#         EOD_OPEN_INDEX_VAL.append(record[\"EOD_OPEN_INDEX_VAL\"])\n",
    "#         EOD_HIGH_INDEX_VAL.append(record[\"EOD_HIGH_INDEX_VAL\"])\n",
    "#         EOD_CLOSE_INDEX_VAL.append(record[\"EOD_CLOSE_INDEX_VAL\"])\n",
    "#         EOD_LOW_INDEX_VAL.append(record[\"EOD_LOW_INDEX_VAL\"])\n",
    "#         EOD_TIMESTAMP.append(record[\"EOD_TIMESTAMP\"])\n",
    "\n",
    "#     # Check the length of each array\n",
    "#     print(len(EOD_INDEX_NAME))\n",
    "#     print(len(EOD_OPEN_INDEX_VAL))\n",
    "#     print(len(EOD_HIGH_INDEX_VAL))\n",
    "#     print(len(EOD_CLOSE_INDEX_VAL))\n",
    "#     print(len(EOD_LOW_INDEX_VAL))\n",
    "#     print(len(EOD_TIMESTAMP))\n",
    "\n",
    "#     # Create the DataFrame\n",
    "#     Data = {\n",
    "#         \"EOD_INDEX_NAME\": EOD_INDEX_NAME,\n",
    "#         \"EOD_OPEN_INDEX_VAL\": EOD_OPEN_INDEX_VAL,\n",
    "#         \"EOD_HIGH_INDEX_VAL\": EOD_HIGH_INDEX_VAL,\n",
    "#         \"EOD_CLOSE_INDEX_VAL\": EOD_CLOSE_INDEX_VAL,\n",
    "#         \"EOD_LOW_INDEX_VAL\": EOD_LOW_INDEX_VAL,\n",
    "#         \"EOD_TIMESTAMP\": EOD_TIMESTAMP,\n",
    "#     }\n",
    "\n",
    "#     TempDldDf = pd.DataFrame(Data)\n",
    "#     NSENiftyDf = pd.concat([NSENiftyDf,TempDldDf])\n",
    "\n",
    "#     Year = Year + 1\n",
    "\n",
    "# NSENiftyDf"
   ]
  },
  {
   "cell_type": "code",
   "execution_count": null,
   "id": "f1d63c69-99ae-42be-9cb7-c660a111d614",
   "metadata": {
    "tags": []
   },
   "outputs": [],
   "source": [
    "# FilePath = \"/home/shankar/1MyProjects/test_poetry_project/data/raw/NSENiftyHistoricData.xlsx\"\n",
    "# NSENiftyDf.to_excel(FilePath, index=False)"
   ]
  },
  {
   "cell_type": "markdown",
   "id": "0e4b730f-7fd7-4872-92d6-46adfb25cdb0",
   "metadata": {
    "id": "ZtfINPTejgpE",
    "tags": []
   },
   "source": [
    "# IndiaVIX data Download - IndiaVixDf"
   ]
  },
  {
   "cell_type": "code",
   "execution_count": null,
   "id": "0c0b39b0-f277-4257-b576-b8e8a470a294",
   "metadata": {
    "tags": []
   },
   "outputs": [],
   "source": [
    "# # # https://www.nseindia.com/api/historical/vixhistory?from=01-01-2023&to=31-12-2023\n",
    "# # # https://www.nseindia.com/api/historical/vixhistory?from=01-01-2022&to=31-12-2022\n",
    "\n",
    "# NSEIndiaVixDf = pd.DataFrame()\n",
    "\n",
    "# StartDate = pd.Timestamp(year=2016, month=1, day=1).strftime(\"%d-%m-%Y\")\n",
    "# EndDate = (pd.Timestamp(year=2016, month=1, day=1) + timedelta(days=3*30)).strftime(\"%d-%m-%Y\")\n",
    "\n",
    "# # Convert StartDate and EndDate to datetime objects\n",
    "# StartDate = pd.to_datetime(StartDate, format=\"%d-%m-%Y\")\n",
    "# EndDate = pd.to_datetime(EndDate, format=\"%d-%m-%Y\")\n",
    "\n",
    "# # Calculate the number of iterations\n",
    "# num_iterations = (pd.Timestamp(year=2023, month=12, day=31) - StartDate).days // (3*30)\n",
    "\n",
    "# for i in range(0, num_iterations + 1):\n",
    "#     print(\"------\")\n",
    "#     print(i)\n",
    "#     print(\"------\")\n",
    "#     print(StartDate.strftime(\"%d-%m-%Y\"))\n",
    "#     print(EndDate.strftime(\"%d-%m-%Y\"))\n",
    "\n",
    "#     TempPositions = nsefetch(f\"https://www.nseindia.com/api/historical/vixhistory?from={StartDate.strftime('%d-%m-%Y')}&to={EndDate.strftime('%d-%m-%Y')}\")\n",
    "\n",
    "#     NSEIndiaVixDf = pd.concat([NSEIndiaVixDf, pd.DataFrame(TempPositions[\"data\"])], ignore_index=True)\n",
    "\n",
    "#     StartDate = (EndDate + timedelta(days=1))\n",
    "#     EndDate = (StartDate + timedelta(days=3*30))\n",
    "\n",
    "#     if (\n",
    "#         EndDate > pd.Timestamp(year=2023, month=12, day=31)\n",
    "#     ):\n",
    "#         EndDate = pd.Timestamp(year=2023, month=12, day=31)\n",
    "\n",
    "# NSEIndiaVixDf"
   ]
  },
  {
   "cell_type": "code",
   "execution_count": null,
   "id": "3df84503-29bb-453f-bf5b-fdb43d839a1e",
   "metadata": {
    "tags": []
   },
   "outputs": [],
   "source": [
    "# FilePath = \"/home/shankar/1MyProjects/test_poetry_project/data/raw/NSEIndiaVixHistoricData.xlsx\"\n",
    "# NSEIndiaVixDf.to_excel(FilePath, index=False)"
   ]
  },
  {
   "cell_type": "markdown",
   "id": "3ce7af15-d010-47a9-9ed3-e50ac3a64fdf",
   "metadata": {},
   "source": [
    "# Options Data Download from NSE Website"
   ]
  },
  {
   "cell_type": "code",
   "execution_count": null,
   "id": "5b982069-2590-41c5-b416-b8fa1f729325",
   "metadata": {},
   "outputs": [],
   "source": []
  }
 ],
 "metadata": {
  "kernelspec": {
   "display_name": "",
   "name": ""
  },
  "language_info": {
   "name": ""
  }
 },
 "nbformat": 4,
 "nbformat_minor": 5
}
