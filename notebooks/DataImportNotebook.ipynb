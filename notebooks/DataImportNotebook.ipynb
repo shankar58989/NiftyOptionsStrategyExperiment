{
 "cells": [
  {
   "cell_type": "code",
   "execution_count": 1,
   "metadata": {
    "colab": {
     "base_uri": "https://localhost:8080/"
    },
    "executionInfo": {
     "elapsed": 595,
     "status": "ok",
     "timestamp": 1701262204277,
     "user": {
      "displayName": "Shankar Narayanan G R",
      "userId": "06073656442154612321"
     },
     "user_tz": -330
    },
    "id": "MQlpolilH7ni",
    "outputId": "7e904f85-627c-45e6-befc-e86f3dffd741",
    "tags": []
   },
   "outputs": [
    {
     "name": "stdout",
     "output_type": "stream",
     "text": [
      "/home/shankar/1MyProjects/test_poetry_project/notebooks\n"
     ]
    }
   ],
   "source": [
    "!pwd"
   ]
  },
  {
   "cell_type": "markdown",
   "metadata": {
    "id": "l-RHQSm4Bux-"
   },
   "source": [
    "# Mounting Google Drive"
   ]
  },
  {
   "cell_type": "code",
   "execution_count": null,
   "metadata": {
    "colab": {
     "base_uri": "https://localhost:8080/"
    },
    "executionInfo": {
     "elapsed": 18934,
     "status": "ok",
     "timestamp": 1701253212635,
     "user": {
      "displayName": "Shankar Narayanan G R",
      "userId": "06073656442154612321"
     },
     "user_tz": -330
    },
    "id": "BB_6_XVJgZxK",
    "outputId": "a79faeb4-eaf2-4ff8-864e-9415185c8a04"
   },
   "outputs": [
    {
     "name": "stdout",
     "output_type": "stream",
     "text": [
      "Mounted at /content/gdrive\n"
     ]
    }
   ],
   "source": [
    "# \"\"\"\n",
    "# Mounting Google Drive\n",
    "# \"\"\"\n",
    "# from google.colab import drive\n",
    "\n",
    "# drive.mount(\"/content/gdrive\")"
   ]
  },
  {
   "cell_type": "markdown",
   "metadata": {
    "id": "qHaxqDySIow_"
   },
   "source": [
    "# Importing Libraries"
   ]
  },
  {
   "cell_type": "code",
   "execution_count": 13,
   "metadata": {
    "id": "f_gA3V_fIqlA"
   },
   "outputs": [],
   "source": [
    "# Import basic libraries\n",
    "import numpy as np\n",
    "import pandas as pd\n",
    "pd.set_option('display.max_columns', None)\n",
    "\n",
    "import matplotlib.pyplot as plt\n",
    "%matplotlib inline\n",
    "\n",
    "import seaborn as sns\n",
    "from sklearn.model_selection import train_test_split\n",
    "\n",
    "from datetime import date\n",
    "from nsepython import *"
   ]
  },
  {
   "cell_type": "markdown",
   "metadata": {
    "id": "exWJ63P-I0w_"
   },
   "source": [
    "# Functions"
   ]
  },
  {
   "cell_type": "code",
   "execution_count": 3,
   "metadata": {
    "id": "16a-0KFVI2Zg"
   },
   "outputs": [],
   "source": [
    "# A function to import NIFTY data from nsepy using get_history method\n",
    "\n",
    "# def import_nifty_data(start_date, end_date):\n",
    "#     nifty_data = get_history(symbol=\"NIFTY\", index=True, start=start_date, end=end_date)\n",
    "#     return nifty_data"
   ]
  },
  {
   "cell_type": "markdown",
   "metadata": {
    "id": "RZlinAKMIuxA"
   },
   "source": [
    "# Variables"
   ]
  },
  {
   "cell_type": "code",
   "execution_count": 45,
   "metadata": {
    "id": "KscUlrwzI0Y9"
   },
   "outputs": [],
   "source": [
    "# start_date: date = date(2023, 1, 1)\n",
    "# end_date: date = date(2023, 12, 31)\n",
    "\n",
    "symbol = \"SBIN\"\n",
    "series = \"EQ\"\n",
    "start_date = \"08-06-2021\"\n",
    "end_date =\"14-06-2021\""
   ]
  },
  {
   "cell_type": "markdown",
   "metadata": {
    "id": "9qBrvv_MI3q2"
   },
   "source": [
    "# Importing Dataset"
   ]
  },
  {
   "cell_type": "code",
   "execution_count": 46,
   "metadata": {
    "id": "Q133rzpBI6cn",
    "scrolled": true
   },
   "outputs": [
    {
     "name": "stdout",
     "output_type": "stream",
     "text": [
      "{'data': [{'_id': '63d7a40f3aa4bc0006fce1b1', 'CH_SYMBOL': 'SBIN', 'CH_SERIES': 'EQ', 'CH_MARKET_TYPE': 'N', 'CH_TRADE_HIGH_PRICE': 432.45, 'CH_TRADE_LOW_PRICE': 416.7, 'CH_OPENING_PRICE': 427, 'CH_CLOSING_PRICE': 430.35, 'CH_LAST_TRADED_PRICE': 430, 'CH_PREVIOUS_CLS_PRICE': 429.6, 'CH_TOT_TRADED_QTY': 30106015, 'CH_TOT_TRADED_VAL': 12793122958.95, 'CH_52WEEK_HIGH_PRICE': 441.95, 'CH_52WEEK_LOW_PRICE': 169.25, 'CH_TOTAL_TRADES': 279081, 'CH_ISIN': 'INE062A01020', 'CH_TIMESTAMP': '2021-06-14', 'TIMESTAMP': '2021-06-13T18:30:00.000Z', 'createdAt': '2023-01-30T11:03:43.011Z', 'updatedAt': '2023-01-30T11:03:43.011Z', '__v': 0, 'SLBMH_TOT_VAL': None, 'VWAP': 424.94, 'mTIMESTAMP': '14-Jun-2021'}, {'_id': '63d7a3ffb726b40007af6585', 'CH_SYMBOL': 'SBIN', 'CH_SERIES': 'EQ', 'CH_MARKET_TYPE': 'N', 'CH_TRADE_HIGH_PRICE': 435.5, 'CH_TRADE_LOW_PRICE': 425.25, 'CH_OPENING_PRICE': 434.85, 'CH_CLOSING_PRICE': 429.6, 'CH_LAST_TRADED_PRICE': 429.4, 'CH_PREVIOUS_CLS_PRICE': 432.25, 'CH_TOT_TRADED_QTY': 26831924, 'CH_TOT_TRADED_VAL': 11538698028.75, 'CH_52WEEK_HIGH_PRICE': 441.95, 'CH_52WEEK_LOW_PRICE': 169.25, 'CH_TOTAL_TRADES': 211915, 'CH_ISIN': 'INE062A01020', 'CH_TIMESTAMP': '2021-06-11', 'TIMESTAMP': '2021-06-10T18:30:00.000Z', 'createdAt': '2023-01-30T11:03:27.915Z', 'updatedAt': '2023-01-30T11:03:27.915Z', '__v': 0, 'SLBMH_TOT_VAL': None, 'VWAP': 430.04, 'mTIMESTAMP': '11-Jun-2021'}, {'_id': '63d7a3f006404c0006d94d31', 'CH_SYMBOL': 'SBIN', 'CH_SERIES': 'EQ', 'CH_MARKET_TYPE': 'N', 'CH_TRADE_HIGH_PRICE': 433.3, 'CH_TRADE_LOW_PRICE': 422.4, 'CH_OPENING_PRICE': 424.9, 'CH_CLOSING_PRICE': 432.25, 'CH_LAST_TRADED_PRICE': 432.4, 'CH_PREVIOUS_CLS_PRICE': 421.45, 'CH_TOT_TRADED_QTY': 27397712, 'CH_TOT_TRADED_VAL': 11744708248.1, 'CH_52WEEK_HIGH_PRICE': 441.95, 'CH_52WEEK_LOW_PRICE': 169.25, 'CH_TOTAL_TRADES': 211924, 'CH_ISIN': 'INE062A01020', 'CH_TIMESTAMP': '2021-06-10', 'TIMESTAMP': '2021-06-09T18:30:00.000Z', 'createdAt': '2023-01-30T11:03:12.813Z', 'updatedAt': '2023-01-30T11:03:12.813Z', '__v': 0, 'SLBMH_TOT_VAL': None, 'VWAP': 428.67, 'mTIMESTAMP': '10-Jun-2021'}, {'_id': '63d7a3e191e6ce00070a9f27', 'CH_SYMBOL': 'SBIN', 'CH_SERIES': 'EQ', 'CH_MARKET_TYPE': 'N', 'CH_TRADE_HIGH_PRICE': 432.3, 'CH_TRADE_LOW_PRICE': 418.2, 'CH_OPENING_PRICE': 427.5, 'CH_CLOSING_PRICE': 421.45, 'CH_LAST_TRADED_PRICE': 421.95, 'CH_PREVIOUS_CLS_PRICE': 427.2, 'CH_TOT_TRADED_QTY': 27784834, 'CH_TOT_TRADED_VAL': 11852490465.3, 'CH_52WEEK_HIGH_PRICE': 441.95, 'CH_52WEEK_LOW_PRICE': 169.25, 'CH_TOTAL_TRADES': 241080, 'CH_ISIN': 'INE062A01020', 'CH_TIMESTAMP': '2021-06-09', 'TIMESTAMP': '2021-06-08T18:30:00.000Z', 'createdAt': '2023-01-30T11:02:57.750Z', 'updatedAt': '2023-01-30T11:02:57.750Z', '__v': 0, 'SLBMH_TOT_VAL': None, 'VWAP': 426.58, 'mTIMESTAMP': '09-Jun-2021'}, {'_id': '63d7a3d2ce536a0007460775', 'CH_SYMBOL': 'SBIN', 'CH_SERIES': 'EQ', 'CH_MARKET_TYPE': 'N', 'CH_TRADE_HIGH_PRICE': 432.5, 'CH_TRADE_LOW_PRICE': 424, 'CH_OPENING_PRICE': 432.25, 'CH_CLOSING_PRICE': 427.2, 'CH_LAST_TRADED_PRICE': 427.4, 'CH_PREVIOUS_CLS_PRICE': 432.25, 'CH_TOT_TRADED_QTY': 31113823, 'CH_TOT_TRADED_VAL': 13300300385.2, 'CH_52WEEK_HIGH_PRICE': 441.95, 'CH_52WEEK_LOW_PRICE': 169.25, 'CH_TOTAL_TRADES': 247824, 'CH_ISIN': 'INE062A01020', 'CH_TIMESTAMP': '2021-06-08', 'TIMESTAMP': '2021-06-07T18:30:00.000Z', 'createdAt': '2023-01-30T11:02:42.626Z', 'updatedAt': '2023-01-30T11:02:42.626Z', '__v': 0, 'SLBMH_TOT_VAL': None, 'VWAP': 427.47, 'mTIMESTAMP': '08-Jun-2021'}], 'meta': {'series': ['EQ'], 'fromDate': '08-06-2021', 'toDate': '14-06-2021', 'symbols': ['SBIN', 'SBIN']}}\n"
     ]
    }
   ],
   "source": [
    "eqdf = equity_history(symbol,series,start_date,end_date)"
   ]
  },
  {
   "cell_type": "code",
   "execution_count": 47,
   "metadata": {},
   "outputs": [
    {
     "name": "stdout",
     "output_type": "stream",
     "text": [
      "(5, 24)\n"
     ]
    }
   ],
   "source": [
    "print(eqdf.shape)"
   ]
  },
  {
   "cell_type": "code",
   "execution_count": 48,
   "metadata": {},
   "outputs": [
    {
     "data": {
      "text/html": [
       "<div>\n",
       "<style scoped>\n",
       "    .dataframe tbody tr th:only-of-type {\n",
       "        vertical-align: middle;\n",
       "    }\n",
       "\n",
       "    .dataframe tbody tr th {\n",
       "        vertical-align: top;\n",
       "    }\n",
       "\n",
       "    .dataframe thead th {\n",
       "        text-align: right;\n",
       "    }\n",
       "</style>\n",
       "<table border=\"1\" class=\"dataframe\">\n",
       "  <thead>\n",
       "    <tr style=\"text-align: right;\">\n",
       "      <th></th>\n",
       "      <th>_id</th>\n",
       "      <th>CH_SYMBOL</th>\n",
       "      <th>CH_SERIES</th>\n",
       "      <th>CH_MARKET_TYPE</th>\n",
       "      <th>CH_TRADE_HIGH_PRICE</th>\n",
       "      <th>CH_TRADE_LOW_PRICE</th>\n",
       "      <th>CH_OPENING_PRICE</th>\n",
       "      <th>CH_CLOSING_PRICE</th>\n",
       "      <th>CH_LAST_TRADED_PRICE</th>\n",
       "      <th>CH_PREVIOUS_CLS_PRICE</th>\n",
       "      <th>CH_TOT_TRADED_QTY</th>\n",
       "      <th>CH_TOT_TRADED_VAL</th>\n",
       "      <th>CH_52WEEK_HIGH_PRICE</th>\n",
       "      <th>CH_52WEEK_LOW_PRICE</th>\n",
       "      <th>CH_TOTAL_TRADES</th>\n",
       "      <th>CH_ISIN</th>\n",
       "      <th>CH_TIMESTAMP</th>\n",
       "      <th>TIMESTAMP</th>\n",
       "      <th>createdAt</th>\n",
       "      <th>updatedAt</th>\n",
       "      <th>__v</th>\n",
       "      <th>SLBMH_TOT_VAL</th>\n",
       "      <th>VWAP</th>\n",
       "      <th>mTIMESTAMP</th>\n",
       "    </tr>\n",
       "  </thead>\n",
       "  <tbody>\n",
       "    <tr>\n",
       "      <th>0</th>\n",
       "      <td>63d7a3d2ce536a0007460775</td>\n",
       "      <td>SBIN</td>\n",
       "      <td>EQ</td>\n",
       "      <td>N</td>\n",
       "      <td>432.50</td>\n",
       "      <td>424.00</td>\n",
       "      <td>432.25</td>\n",
       "      <td>427.20</td>\n",
       "      <td>427.40</td>\n",
       "      <td>432.25</td>\n",
       "      <td>31113823</td>\n",
       "      <td>1.330030e+10</td>\n",
       "      <td>441.95</td>\n",
       "      <td>169.25</td>\n",
       "      <td>247824</td>\n",
       "      <td>INE062A01020</td>\n",
       "      <td>2021-06-08</td>\n",
       "      <td>2021-06-07T18:30:00.000Z</td>\n",
       "      <td>2023-01-30T11:02:42.626Z</td>\n",
       "      <td>2023-01-30T11:02:42.626Z</td>\n",
       "      <td>0</td>\n",
       "      <td>None</td>\n",
       "      <td>427.47</td>\n",
       "      <td>08-Jun-2021</td>\n",
       "    </tr>\n",
       "    <tr>\n",
       "      <th>1</th>\n",
       "      <td>63d7a3e191e6ce00070a9f27</td>\n",
       "      <td>SBIN</td>\n",
       "      <td>EQ</td>\n",
       "      <td>N</td>\n",
       "      <td>432.30</td>\n",
       "      <td>418.20</td>\n",
       "      <td>427.50</td>\n",
       "      <td>421.45</td>\n",
       "      <td>421.95</td>\n",
       "      <td>427.20</td>\n",
       "      <td>27784834</td>\n",
       "      <td>1.185249e+10</td>\n",
       "      <td>441.95</td>\n",
       "      <td>169.25</td>\n",
       "      <td>241080</td>\n",
       "      <td>INE062A01020</td>\n",
       "      <td>2021-06-09</td>\n",
       "      <td>2021-06-08T18:30:00.000Z</td>\n",
       "      <td>2023-01-30T11:02:57.750Z</td>\n",
       "      <td>2023-01-30T11:02:57.750Z</td>\n",
       "      <td>0</td>\n",
       "      <td>None</td>\n",
       "      <td>426.58</td>\n",
       "      <td>09-Jun-2021</td>\n",
       "    </tr>\n",
       "    <tr>\n",
       "      <th>2</th>\n",
       "      <td>63d7a3f006404c0006d94d31</td>\n",
       "      <td>SBIN</td>\n",
       "      <td>EQ</td>\n",
       "      <td>N</td>\n",
       "      <td>433.30</td>\n",
       "      <td>422.40</td>\n",
       "      <td>424.90</td>\n",
       "      <td>432.25</td>\n",
       "      <td>432.40</td>\n",
       "      <td>421.45</td>\n",
       "      <td>27397712</td>\n",
       "      <td>1.174471e+10</td>\n",
       "      <td>441.95</td>\n",
       "      <td>169.25</td>\n",
       "      <td>211924</td>\n",
       "      <td>INE062A01020</td>\n",
       "      <td>2021-06-10</td>\n",
       "      <td>2021-06-09T18:30:00.000Z</td>\n",
       "      <td>2023-01-30T11:03:12.813Z</td>\n",
       "      <td>2023-01-30T11:03:12.813Z</td>\n",
       "      <td>0</td>\n",
       "      <td>None</td>\n",
       "      <td>428.67</td>\n",
       "      <td>10-Jun-2021</td>\n",
       "    </tr>\n",
       "    <tr>\n",
       "      <th>3</th>\n",
       "      <td>63d7a3ffb726b40007af6585</td>\n",
       "      <td>SBIN</td>\n",
       "      <td>EQ</td>\n",
       "      <td>N</td>\n",
       "      <td>435.50</td>\n",
       "      <td>425.25</td>\n",
       "      <td>434.85</td>\n",
       "      <td>429.60</td>\n",
       "      <td>429.40</td>\n",
       "      <td>432.25</td>\n",
       "      <td>26831924</td>\n",
       "      <td>1.153870e+10</td>\n",
       "      <td>441.95</td>\n",
       "      <td>169.25</td>\n",
       "      <td>211915</td>\n",
       "      <td>INE062A01020</td>\n",
       "      <td>2021-06-11</td>\n",
       "      <td>2021-06-10T18:30:00.000Z</td>\n",
       "      <td>2023-01-30T11:03:27.915Z</td>\n",
       "      <td>2023-01-30T11:03:27.915Z</td>\n",
       "      <td>0</td>\n",
       "      <td>None</td>\n",
       "      <td>430.04</td>\n",
       "      <td>11-Jun-2021</td>\n",
       "    </tr>\n",
       "    <tr>\n",
       "      <th>4</th>\n",
       "      <td>63d7a40f3aa4bc0006fce1b1</td>\n",
       "      <td>SBIN</td>\n",
       "      <td>EQ</td>\n",
       "      <td>N</td>\n",
       "      <td>432.45</td>\n",
       "      <td>416.70</td>\n",
       "      <td>427.00</td>\n",
       "      <td>430.35</td>\n",
       "      <td>430.00</td>\n",
       "      <td>429.60</td>\n",
       "      <td>30106015</td>\n",
       "      <td>1.279312e+10</td>\n",
       "      <td>441.95</td>\n",
       "      <td>169.25</td>\n",
       "      <td>279081</td>\n",
       "      <td>INE062A01020</td>\n",
       "      <td>2021-06-14</td>\n",
       "      <td>2021-06-13T18:30:00.000Z</td>\n",
       "      <td>2023-01-30T11:03:43.011Z</td>\n",
       "      <td>2023-01-30T11:03:43.011Z</td>\n",
       "      <td>0</td>\n",
       "      <td>None</td>\n",
       "      <td>424.94</td>\n",
       "      <td>14-Jun-2021</td>\n",
       "    </tr>\n",
       "  </tbody>\n",
       "</table>\n",
       "</div>"
      ],
      "text/plain": [
       "                        _id CH_SYMBOL CH_SERIES CH_MARKET_TYPE  \\\n",
       "0  63d7a3d2ce536a0007460775      SBIN        EQ              N   \n",
       "1  63d7a3e191e6ce00070a9f27      SBIN        EQ              N   \n",
       "2  63d7a3f006404c0006d94d31      SBIN        EQ              N   \n",
       "3  63d7a3ffb726b40007af6585      SBIN        EQ              N   \n",
       "4  63d7a40f3aa4bc0006fce1b1      SBIN        EQ              N   \n",
       "\n",
       "   CH_TRADE_HIGH_PRICE  CH_TRADE_LOW_PRICE  CH_OPENING_PRICE  \\\n",
       "0               432.50              424.00            432.25   \n",
       "1               432.30              418.20            427.50   \n",
       "2               433.30              422.40            424.90   \n",
       "3               435.50              425.25            434.85   \n",
       "4               432.45              416.70            427.00   \n",
       "\n",
       "   CH_CLOSING_PRICE  CH_LAST_TRADED_PRICE  CH_PREVIOUS_CLS_PRICE  \\\n",
       "0            427.20                427.40                 432.25   \n",
       "1            421.45                421.95                 427.20   \n",
       "2            432.25                432.40                 421.45   \n",
       "3            429.60                429.40                 432.25   \n",
       "4            430.35                430.00                 429.60   \n",
       "\n",
       "   CH_TOT_TRADED_QTY  CH_TOT_TRADED_VAL  CH_52WEEK_HIGH_PRICE  \\\n",
       "0           31113823       1.330030e+10                441.95   \n",
       "1           27784834       1.185249e+10                441.95   \n",
       "2           27397712       1.174471e+10                441.95   \n",
       "3           26831924       1.153870e+10                441.95   \n",
       "4           30106015       1.279312e+10                441.95   \n",
       "\n",
       "   CH_52WEEK_LOW_PRICE  CH_TOTAL_TRADES       CH_ISIN CH_TIMESTAMP  \\\n",
       "0               169.25           247824  INE062A01020   2021-06-08   \n",
       "1               169.25           241080  INE062A01020   2021-06-09   \n",
       "2               169.25           211924  INE062A01020   2021-06-10   \n",
       "3               169.25           211915  INE062A01020   2021-06-11   \n",
       "4               169.25           279081  INE062A01020   2021-06-14   \n",
       "\n",
       "                  TIMESTAMP                 createdAt  \\\n",
       "0  2021-06-07T18:30:00.000Z  2023-01-30T11:02:42.626Z   \n",
       "1  2021-06-08T18:30:00.000Z  2023-01-30T11:02:57.750Z   \n",
       "2  2021-06-09T18:30:00.000Z  2023-01-30T11:03:12.813Z   \n",
       "3  2021-06-10T18:30:00.000Z  2023-01-30T11:03:27.915Z   \n",
       "4  2021-06-13T18:30:00.000Z  2023-01-30T11:03:43.011Z   \n",
       "\n",
       "                  updatedAt  __v SLBMH_TOT_VAL    VWAP   mTIMESTAMP  \n",
       "0  2023-01-30T11:02:42.626Z    0          None  427.47  08-Jun-2021  \n",
       "1  2023-01-30T11:02:57.750Z    0          None  426.58  09-Jun-2021  \n",
       "2  2023-01-30T11:03:12.813Z    0          None  428.67  10-Jun-2021  \n",
       "3  2023-01-30T11:03:27.915Z    0          None  430.04  11-Jun-2021  \n",
       "4  2023-01-30T11:03:43.011Z    0          None  424.94  14-Jun-2021  "
      ]
     },
     "execution_count": 48,
     "metadata": {},
     "output_type": "execute_result"
    }
   ],
   "source": [
    "eqdf"
   ]
  },
  {
   "cell_type": "code",
   "execution_count": 60,
   "metadata": {},
   "outputs": [],
   "source": [
    "symbol = \"NIFTY 50\"\n",
    "series = \"EQ\"\n",
    "start_date = \"08-06-2021\"\n",
    "end_date =\"14-06-2021\""
   ]
  },
  {
   "cell_type": "code",
   "execution_count": 61,
   "metadata": {},
   "outputs": [
    {
     "ename": "JSONDecodeError",
     "evalue": "Expecting value: line 1 column 1 (char 0)",
     "output_type": "error",
     "traceback": [
      "\u001b[0;31m---------------------------------------------------------------------------\u001b[0m",
      "\u001b[0;31mJSONDecodeError\u001b[0m                           Traceback (most recent call last)",
      "File \u001b[0;32m~/.cache/pypoetry/virtualenvs/test-poetry-project-72Yp0uyL-py3.10/lib/python3.10/site-packages/requests/models.py:971\u001b[0m, in \u001b[0;36mResponse.json\u001b[0;34m(self, **kwargs)\u001b[0m\n\u001b[1;32m    970\u001b[0m \u001b[38;5;28;01mtry\u001b[39;00m:\n\u001b[0;32m--> 971\u001b[0m     \u001b[38;5;28;01mreturn\u001b[39;00m \u001b[43mcomplexjson\u001b[49m\u001b[38;5;241;43m.\u001b[39;49m\u001b[43mloads\u001b[49m\u001b[43m(\u001b[49m\u001b[38;5;28;43mself\u001b[39;49m\u001b[38;5;241;43m.\u001b[39;49m\u001b[43mtext\u001b[49m\u001b[43m,\u001b[49m\u001b[43m \u001b[49m\u001b[38;5;241;43m*\u001b[39;49m\u001b[38;5;241;43m*\u001b[39;49m\u001b[43mkwargs\u001b[49m\u001b[43m)\u001b[49m\n\u001b[1;32m    972\u001b[0m \u001b[38;5;28;01mexcept\u001b[39;00m JSONDecodeError \u001b[38;5;28;01mas\u001b[39;00m e:\n\u001b[1;32m    973\u001b[0m     \u001b[38;5;66;03m# Catch JSON-related errors and raise as requests.JSONDecodeError\u001b[39;00m\n\u001b[1;32m    974\u001b[0m     \u001b[38;5;66;03m# This aliases json.JSONDecodeError and simplejson.JSONDecodeError\u001b[39;00m\n",
      "File \u001b[0;32m/usr/lib/python3.10/json/__init__.py:346\u001b[0m, in \u001b[0;36mloads\u001b[0;34m(s, cls, object_hook, parse_float, parse_int, parse_constant, object_pairs_hook, **kw)\u001b[0m\n\u001b[1;32m    343\u001b[0m \u001b[38;5;28;01mif\u001b[39;00m (\u001b[38;5;28mcls\u001b[39m \u001b[38;5;129;01mis\u001b[39;00m \u001b[38;5;28;01mNone\u001b[39;00m \u001b[38;5;129;01mand\u001b[39;00m object_hook \u001b[38;5;129;01mis\u001b[39;00m \u001b[38;5;28;01mNone\u001b[39;00m \u001b[38;5;129;01mand\u001b[39;00m\n\u001b[1;32m    344\u001b[0m         parse_int \u001b[38;5;129;01mis\u001b[39;00m \u001b[38;5;28;01mNone\u001b[39;00m \u001b[38;5;129;01mand\u001b[39;00m parse_float \u001b[38;5;129;01mis\u001b[39;00m \u001b[38;5;28;01mNone\u001b[39;00m \u001b[38;5;129;01mand\u001b[39;00m\n\u001b[1;32m    345\u001b[0m         parse_constant \u001b[38;5;129;01mis\u001b[39;00m \u001b[38;5;28;01mNone\u001b[39;00m \u001b[38;5;129;01mand\u001b[39;00m object_pairs_hook \u001b[38;5;129;01mis\u001b[39;00m \u001b[38;5;28;01mNone\u001b[39;00m \u001b[38;5;129;01mand\u001b[39;00m \u001b[38;5;129;01mnot\u001b[39;00m kw):\n\u001b[0;32m--> 346\u001b[0m     \u001b[38;5;28;01mreturn\u001b[39;00m \u001b[43m_default_decoder\u001b[49m\u001b[38;5;241;43m.\u001b[39;49m\u001b[43mdecode\u001b[49m\u001b[43m(\u001b[49m\u001b[43ms\u001b[49m\u001b[43m)\u001b[49m\n\u001b[1;32m    347\u001b[0m \u001b[38;5;28;01mif\u001b[39;00m \u001b[38;5;28mcls\u001b[39m \u001b[38;5;129;01mis\u001b[39;00m \u001b[38;5;28;01mNone\u001b[39;00m:\n",
      "File \u001b[0;32m/usr/lib/python3.10/json/decoder.py:337\u001b[0m, in \u001b[0;36mJSONDecoder.decode\u001b[0;34m(self, s, _w)\u001b[0m\n\u001b[1;32m    333\u001b[0m \u001b[38;5;250m\u001b[39m\u001b[38;5;124;03m\"\"\"Return the Python representation of ``s`` (a ``str`` instance\u001b[39;00m\n\u001b[1;32m    334\u001b[0m \u001b[38;5;124;03mcontaining a JSON document).\u001b[39;00m\n\u001b[1;32m    335\u001b[0m \n\u001b[1;32m    336\u001b[0m \u001b[38;5;124;03m\"\"\"\u001b[39;00m\n\u001b[0;32m--> 337\u001b[0m obj, end \u001b[38;5;241m=\u001b[39m \u001b[38;5;28;43mself\u001b[39;49m\u001b[38;5;241;43m.\u001b[39;49m\u001b[43mraw_decode\u001b[49m\u001b[43m(\u001b[49m\u001b[43ms\u001b[49m\u001b[43m,\u001b[49m\u001b[43m \u001b[49m\u001b[43midx\u001b[49m\u001b[38;5;241;43m=\u001b[39;49m\u001b[43m_w\u001b[49m\u001b[43m(\u001b[49m\u001b[43ms\u001b[49m\u001b[43m,\u001b[49m\u001b[43m \u001b[49m\u001b[38;5;241;43m0\u001b[39;49m\u001b[43m)\u001b[49m\u001b[38;5;241;43m.\u001b[39;49m\u001b[43mend\u001b[49m\u001b[43m(\u001b[49m\u001b[43m)\u001b[49m\u001b[43m)\u001b[49m\n\u001b[1;32m    338\u001b[0m end \u001b[38;5;241m=\u001b[39m _w(s, end)\u001b[38;5;241m.\u001b[39mend()\n",
      "File \u001b[0;32m/usr/lib/python3.10/json/decoder.py:355\u001b[0m, in \u001b[0;36mJSONDecoder.raw_decode\u001b[0;34m(self, s, idx)\u001b[0m\n\u001b[1;32m    354\u001b[0m \u001b[38;5;28;01mexcept\u001b[39;00m \u001b[38;5;167;01mStopIteration\u001b[39;00m \u001b[38;5;28;01mas\u001b[39;00m err:\n\u001b[0;32m--> 355\u001b[0m     \u001b[38;5;28;01mraise\u001b[39;00m JSONDecodeError(\u001b[38;5;124m\"\u001b[39m\u001b[38;5;124mExpecting value\u001b[39m\u001b[38;5;124m\"\u001b[39m, s, err\u001b[38;5;241m.\u001b[39mvalue) \u001b[38;5;28;01mfrom\u001b[39;00m \u001b[38;5;28;01mNone\u001b[39;00m\n\u001b[1;32m    356\u001b[0m \u001b[38;5;28;01mreturn\u001b[39;00m obj, end\n",
      "\u001b[0;31mJSONDecodeError\u001b[0m: Expecting value: line 1 column 1 (char 0)",
      "\nDuring handling of the above exception, another exception occurred:\n",
      "\u001b[0;31mJSONDecodeError\u001b[0m                           Traceback (most recent call last)",
      "Cell \u001b[0;32mIn[61], line 1\u001b[0m\n\u001b[0;32m----> 1\u001b[0m indf \u001b[38;5;241m=\u001b[39m \u001b[43mindex_history\u001b[49m\u001b[43m(\u001b[49m\u001b[43msymbol\u001b[49m\u001b[43m,\u001b[49m\u001b[43mstart_date\u001b[49m\u001b[43m,\u001b[49m\u001b[43mend_date\u001b[49m\u001b[43m)\u001b[49m\n",
      "File \u001b[0;32m~/.cache/pypoetry/virtualenvs/test-poetry-project-72Yp0uyL-py3.10/lib/python3.10/site-packages/nsepython/rahu.py:747\u001b[0m, in \u001b[0;36mindex_history\u001b[0;34m(symbol, start_date, end_date)\u001b[0m\n\u001b[1;32m    745\u001b[0m \u001b[38;5;28;01mdef\u001b[39;00m \u001b[38;5;21mindex_history\u001b[39m(symbol,start_date,end_date):\n\u001b[1;32m    746\u001b[0m     data \u001b[38;5;241m=\u001b[39m \u001b[38;5;124m\"\u001b[39m\u001b[38;5;124m{\u001b[39m\u001b[38;5;124m'\u001b[39m\u001b[38;5;124mname\u001b[39m\u001b[38;5;124m'\u001b[39m\u001b[38;5;124m:\u001b[39m\u001b[38;5;124m'\u001b[39m\u001b[38;5;124m\"\u001b[39m\u001b[38;5;241m+\u001b[39msymbol\u001b[38;5;241m+\u001b[39m\u001b[38;5;124m\"\u001b[39m\u001b[38;5;124m'\u001b[39m\u001b[38;5;124m,\u001b[39m\u001b[38;5;124m'\u001b[39m\u001b[38;5;124mstartDate\u001b[39m\u001b[38;5;124m'\u001b[39m\u001b[38;5;124m:\u001b[39m\u001b[38;5;124m'\u001b[39m\u001b[38;5;124m\"\u001b[39m\u001b[38;5;241m+\u001b[39mstart_date\u001b[38;5;241m+\u001b[39m\u001b[38;5;124m\"\u001b[39m\u001b[38;5;124m'\u001b[39m\u001b[38;5;124m,\u001b[39m\u001b[38;5;124m'\u001b[39m\u001b[38;5;124mendDate\u001b[39m\u001b[38;5;124m'\u001b[39m\u001b[38;5;124m:\u001b[39m\u001b[38;5;124m'\u001b[39m\u001b[38;5;124m\"\u001b[39m\u001b[38;5;241m+\u001b[39mend_date\u001b[38;5;241m+\u001b[39m\u001b[38;5;124m\"\u001b[39m\u001b[38;5;124m'\u001b[39m\u001b[38;5;124m}\u001b[39m\u001b[38;5;124m\"\u001b[39m\n\u001b[0;32m--> 747\u001b[0m     payload \u001b[38;5;241m=\u001b[39m \u001b[43mrequests\u001b[49m\u001b[38;5;241;43m.\u001b[39;49m\u001b[43mpost\u001b[49m\u001b[43m(\u001b[49m\u001b[38;5;124;43m'\u001b[39;49m\u001b[38;5;124;43mhttps://niftyindices.com/Backpage.aspx/getHistoricaldatatabletoString\u001b[39;49m\u001b[38;5;124;43m'\u001b[39;49m\u001b[43m,\u001b[49m\u001b[43m \u001b[49m\u001b[43mheaders\u001b[49m\u001b[38;5;241;43m=\u001b[39;49m\u001b[43mniftyindices_headers\u001b[49m\u001b[43m,\u001b[49m\u001b[43m  \u001b[49m\u001b[43mdata\u001b[49m\u001b[38;5;241;43m=\u001b[39;49m\u001b[43mdata\u001b[49m\u001b[43m)\u001b[49m\u001b[38;5;241;43m.\u001b[39;49m\u001b[43mjson\u001b[49m\u001b[43m(\u001b[49m\u001b[43m)\u001b[49m\n\u001b[1;32m    748\u001b[0m     payload \u001b[38;5;241m=\u001b[39m json\u001b[38;5;241m.\u001b[39mloads(payload[\u001b[38;5;124m\"\u001b[39m\u001b[38;5;124md\u001b[39m\u001b[38;5;124m\"\u001b[39m])\n\u001b[1;32m    749\u001b[0m     payload\u001b[38;5;241m=\u001b[39mpd\u001b[38;5;241m.\u001b[39mDataFrame\u001b[38;5;241m.\u001b[39mfrom_records(payload)\n",
      "File \u001b[0;32m~/.cache/pypoetry/virtualenvs/test-poetry-project-72Yp0uyL-py3.10/lib/python3.10/site-packages/requests/models.py:975\u001b[0m, in \u001b[0;36mResponse.json\u001b[0;34m(self, **kwargs)\u001b[0m\n\u001b[1;32m    971\u001b[0m     \u001b[38;5;28;01mreturn\u001b[39;00m complexjson\u001b[38;5;241m.\u001b[39mloads(\u001b[38;5;28mself\u001b[39m\u001b[38;5;241m.\u001b[39mtext, \u001b[38;5;241m*\u001b[39m\u001b[38;5;241m*\u001b[39mkwargs)\n\u001b[1;32m    972\u001b[0m \u001b[38;5;28;01mexcept\u001b[39;00m JSONDecodeError \u001b[38;5;28;01mas\u001b[39;00m e:\n\u001b[1;32m    973\u001b[0m     \u001b[38;5;66;03m# Catch JSON-related errors and raise as requests.JSONDecodeError\u001b[39;00m\n\u001b[1;32m    974\u001b[0m     \u001b[38;5;66;03m# This aliases json.JSONDecodeError and simplejson.JSONDecodeError\u001b[39;00m\n\u001b[0;32m--> 975\u001b[0m     \u001b[38;5;28;01mraise\u001b[39;00m RequestsJSONDecodeError(e\u001b[38;5;241m.\u001b[39mmsg, e\u001b[38;5;241m.\u001b[39mdoc, e\u001b[38;5;241m.\u001b[39mpos)\n",
      "\u001b[0;31mJSONDecodeError\u001b[0m: Expecting value: line 1 column 1 (char 0)"
     ]
    }
   ],
   "source": [
    "indf = index_history(symbol,start_date,end_date)"
   ]
  },
  {
   "cell_type": "code",
   "execution_count": null,
   "metadata": {},
   "outputs": [],
   "source": [
    "print(indf.shape)"
   ]
  },
  {
   "cell_type": "code",
   "execution_count": null,
   "metadata": {},
   "outputs": [],
   "source": [
    "indf"
   ]
  }
 ],
 "metadata": {
  "colab": {
   "authorship_tag": "ABX9TyMMlhOorUhn1nfawuMAt9Kg",
   "provenance": []
  },
  "kernelspec": {
   "display_name": "Python 3 (ipykernel)",
   "language": "python",
   "name": "python3"
  },
  "language_info": {
   "codemirror_mode": {
    "name": "ipython",
    "version": 3
   },
   "file_extension": ".py",
   "mimetype": "text/x-python",
   "name": "python",
   "nbconvert_exporter": "python",
   "pygments_lexer": "ipython3",
   "version": "3.10.12"
  }
 },
 "nbformat": 4,
 "nbformat_minor": 4
}
