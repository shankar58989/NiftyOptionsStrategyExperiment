{
 "cells": [
  {
   "cell_type": "code",
   "execution_count": 1,
   "metadata": {
    "colab": {
     "base_uri": "https://localhost:8080/"
    },
    "executionInfo": {
     "elapsed": 515,
     "status": "ok",
     "timestamp": 1702618647730,
     "user": {
      "displayName": "Shankar Narayanan G R",
      "userId": "06073656442154612321"
     },
     "user_tz": -330
    },
    "id": "MQlpolilH7ni",
    "outputId": "6a3f65f5-9b4c-4dbb-fd64-9ee868a7fa28",
    "tags": []
   },
   "outputs": [
    {
     "name": "stdout",
     "output_type": "stream",
     "text": [
      "/home/shankar/1MyProjects/test_poetry_project/notebooks\n"
     ]
    }
   ],
   "source": [
    "!pwd"
   ]
  },
  {
   "cell_type": "markdown",
   "metadata": {
    "id": "l-RHQSm4Bux-",
    "jp-MarkdownHeadingCollapsed": true,
    "tags": []
   },
   "source": [
    "# When using Google Colab, run the following code"
   ]
  },
  {
   "cell_type": "markdown",
   "metadata": {
    "id": "j6-F3nz8qgu0",
    "tags": []
   },
   "source": [
    "## Mounting Google Drive"
   ]
  },
  {
   "cell_type": "code",
   "execution_count": 2,
   "metadata": {
    "colab": {
     "base_uri": "https://localhost:8080/"
    },
    "executionInfo": {
     "elapsed": 21674,
     "status": "ok",
     "timestamp": 1702618669918,
     "user": {
      "displayName": "Shankar Narayanan G R",
      "userId": "06073656442154612321"
     },
     "user_tz": -330
    },
    "id": "BB_6_XVJgZxK",
    "outputId": "f1350a94-8261-4dbf-c267-6cce556d5665"
   },
   "outputs": [],
   "source": [
    "# \"\"\"\n",
    "# Mounting Google Drive\n",
    "# \"\"\"\n",
    "# from google.colab import drive\n",
    "\n",
    "# drive.mount(\"/content/gdrive\")"
   ]
  },
  {
   "cell_type": "markdown",
   "metadata": {
    "id": "uAEeuVEHL1XI"
   },
   "source": [
    "## Install Poetry in the colab runtime environment"
   ]
  },
  {
   "cell_type": "code",
   "execution_count": 3,
   "metadata": {
    "colab": {
     "base_uri": "https://localhost:8080/"
    },
    "executionInfo": {
     "elapsed": 15,
     "status": "ok",
     "timestamp": 1702618669918,
     "user": {
      "displayName": "Shankar Narayanan G R",
      "userId": "06073656442154612321"
     },
     "user_tz": -330
    },
    "id": "KyxXEMRgWYU8",
    "outputId": "ee3aa1a0-98a1-4482-a8fb-8ffad848a0d8"
   },
   "outputs": [],
   "source": [
    "# !poetry --version"
   ]
  },
  {
   "cell_type": "code",
   "execution_count": 4,
   "metadata": {
    "colab": {
     "base_uri": "https://localhost:8080/"
    },
    "executionInfo": {
     "elapsed": 18478,
     "status": "ok",
     "timestamp": 1702618688388,
     "user": {
      "displayName": "Shankar Narayanan G R",
      "userId": "06073656442154612321"
     },
     "user_tz": -330
    },
    "id": "0WW6q7KOL36R",
    "outputId": "ac1620ff-2dc4-4cbd-ed3c-5c40c20fce1a"
   },
   "outputs": [],
   "source": [
    "# !pip install poetry"
   ]
  },
  {
   "cell_type": "code",
   "execution_count": 5,
   "metadata": {
    "colab": {
     "base_uri": "https://localhost:8080/"
    },
    "executionInfo": {
     "elapsed": 1209,
     "status": "ok",
     "timestamp": 1702618689583,
     "user": {
      "displayName": "Shankar Narayanan G R",
      "userId": "06073656442154612321"
     },
     "user_tz": -330
    },
    "id": "HhptQCZOWoTO",
    "outputId": "d1657e95-4652-4278-d794-b7cdcb0a68d7"
   },
   "outputs": [],
   "source": [
    "# !poetry --version"
   ]
  },
  {
   "cell_type": "code",
   "execution_count": 6,
   "metadata": {
    "colab": {
     "base_uri": "https://localhost:8080/"
    },
    "executionInfo": {
     "elapsed": 1238,
     "status": "ok",
     "timestamp": 1702618690808,
     "user": {
      "displayName": "Shankar Narayanan G R",
      "userId": "06073656442154612321"
     },
     "user_tz": -330
    },
    "id": "dHY_WMjdWxGF",
    "outputId": "98aa110b-3628-4a0f-f51b-93cae0634648"
   },
   "outputs": [],
   "source": [
    "# !poetry config --list"
   ]
  },
  {
   "cell_type": "code",
   "execution_count": 7,
   "metadata": {
    "executionInfo": {
     "elapsed": 1135,
     "status": "ok",
     "timestamp": 1702618772019,
     "user": {
      "displayName": "Shankar Narayanan G R",
      "userId": "06073656442154612321"
     },
     "user_tz": -330
    },
    "id": "SkWsvrqMMZVv"
   },
   "outputs": [],
   "source": [
    "# # Configure poetry to create virtual environments in the project folder\n",
    "\n",
    "# !poetry config virtualenvs.in-project true"
   ]
  },
  {
   "cell_type": "markdown",
   "metadata": {
    "id": "QqDwoKUpiJ_N"
   },
   "source": [
    "## Installing Project Dependencies"
   ]
  },
  {
   "cell_type": "code",
   "execution_count": 8,
   "metadata": {
    "colab": {
     "base_uri": "https://localhost:8080/"
    },
    "executionInfo": {
     "elapsed": 659,
     "status": "ok",
     "timestamp": 1702618775845,
     "user": {
      "displayName": "Shankar Narayanan G R",
      "userId": "06073656442154612321"
     },
     "user_tz": -330
    },
    "id": "eseHg4Z5pVQU",
    "outputId": "85a4992b-1764-4184-e9f8-36f8315e5974"
   },
   "outputs": [],
   "source": [
    "# !pwd"
   ]
  },
  {
   "cell_type": "code",
   "execution_count": 9,
   "metadata": {
    "colab": {
     "base_uri": "https://localhost:8080/"
    },
    "executionInfo": {
     "elapsed": 442,
     "status": "ok",
     "timestamp": 1702618781941,
     "user": {
      "displayName": "Shankar Narayanan G R",
      "userId": "06073656442154612321"
     },
     "user_tz": -330
    },
    "id": "cUYsxNXNiCn7",
    "outputId": "ccba8987-f02e-4719-f409-156c68493a32"
   },
   "outputs": [],
   "source": [
    "# %cd /content/gdrive/MyDrive/GitHubProjects/test_poetry_project"
   ]
  },
  {
   "cell_type": "code",
   "execution_count": 10,
   "metadata": {
    "colab": {
     "base_uri": "https://localhost:8080/"
    },
    "executionInfo": {
     "elapsed": 12,
     "status": "ok",
     "timestamp": 1702618784558,
     "user": {
      "displayName": "Shankar Narayanan G R",
      "userId": "06073656442154612321"
     },
     "user_tz": -330
    },
    "id": "YBlBijb7iCoF",
    "outputId": "da592276-f888-437e-fdf2-34362eea2822"
   },
   "outputs": [],
   "source": [
    "# !pwd"
   ]
  },
  {
   "cell_type": "code",
   "execution_count": 11,
   "metadata": {
    "colab": {
     "base_uri": "https://localhost:8080/"
    },
    "executionInfo": {
     "elapsed": 134014,
     "status": "ok",
     "timestamp": 1702618921067,
     "user": {
      "displayName": "Shankar Narayanan G R",
      "userId": "06073656442154612321"
     },
     "user_tz": -330
    },
    "id": "6zMPOYt_M60h",
    "outputId": "83d42697-df4f-4fb0-d21b-5254440b85c9"
   },
   "outputs": [],
   "source": [
    "# !make env-colab"
   ]
  },
  {
   "cell_type": "markdown",
   "metadata": {
    "id": "4iQ6s4fHyuiu"
   },
   "source": [
    "* **Adding additional packages to the virtual environment (USEFUL ONLY IF CREATING VIRTUAL ENVIRONMENT IN PROJECT FOLDER IN COLAB)**"
   ]
  },
  {
   "cell_type": "code",
   "execution_count": 12,
   "metadata": {
    "id": "-JRIsBKgTA1-"
   },
   "outputs": [],
   "source": [
    "# '''\n",
    "# Add any package like 'torch'\n",
    "# '''\n",
    "\n",
    "# !poetry add torch\n",
    "# !poetry install --no-ansi --no-root"
   ]
  },
  {
   "cell_type": "markdown",
   "metadata": {
    "id": "rKIkqDqzjSMo"
   },
   "source": [
    "* **Add poetry virtual environment to python path (USEFUL ONLY IF CREATING VIRTUAL ENVIRONMENT IN PROJECT FOLDER IN COLAB)**"
   ]
  },
  {
   "cell_type": "code",
   "execution_count": 13,
   "metadata": {
    "executionInfo": {
     "elapsed": 456,
     "status": "ok",
     "timestamp": 1702618972352,
     "user": {
      "displayName": "Shankar Narayanan G R",
      "userId": "06073656442154612321"
     },
     "user_tz": -330
    },
    "id": "WPqgKbsGTAxc"
   },
   "outputs": [],
   "source": [
    "# '''\n",
    "# Add poetry virtual environment to python\n",
    "# path so that all installed dependencies\n",
    "# can be found by the python interpreter.\n",
    "# '''\n",
    "\n",
    "# import os, sys\n",
    "\n",
    "# VENV_PATH = \"/content/gdrive/MyDrive/GitHubProjects/test_poetry_project/.venv/lib/python3.10/site-packages\"\n",
    "# LOCAL_VENV_PATH = '/content/venv' # local notebook\n",
    "# os.symlink(VENV_PATH, LOCAL_VENV_PATH) # connect to directory in drive\n",
    "# sys.path.insert(0, LOCAL_VENV_PATH)"
   ]
  },
  {
   "cell_type": "markdown",
   "metadata": {
    "id": "UayDqeR-y8KU"
   },
   "source": [
    "* **Use the added packages**"
   ]
  },
  {
   "cell_type": "code",
   "execution_count": 14,
   "metadata": {
    "colab": {
     "base_uri": "https://localhost:8080/"
    },
    "executionInfo": {
     "elapsed": 122867,
     "status": "ok",
     "timestamp": 1701250016439,
     "user": {
      "displayName": "Shankar Narayanan G R",
      "userId": "06073656442154612321"
     },
     "user_tz": -330
    },
    "id": "dRPv2XiTXMCt",
    "outputId": "84d1ef08-5f4e-49d3-868d-ffae3aacad8f"
   },
   "outputs": [],
   "source": [
    "# import torch\n",
    "# print(torch.__version__)"
   ]
  },
  {
   "cell_type": "markdown",
   "metadata": {
    "id": "xU6hCWJWBQlQ"
   },
   "source": [
    "* **Check the size of the virtual environment**"
   ]
  },
  {
   "cell_type": "code",
   "execution_count": 15,
   "metadata": {
    "colab": {
     "base_uri": "https://localhost:8080/"
    },
    "executionInfo": {
     "elapsed": 2559,
     "status": "ok",
     "timestamp": 1702619310168,
     "user": {
      "displayName": "Shankar Narayanan G R",
      "userId": "06073656442154612321"
     },
     "user_tz": -330
    },
    "id": "KSqzGcYiA_gc",
    "outputId": "bf1c1655-102d-4c83-f016-bc9ec2115d86"
   },
   "outputs": [],
   "source": [
    "# !du -hs /content/gdrive/MyDrive/GitHubProjects/test_poetry_project/.venv/"
   ]
  },
  {
   "cell_type": "markdown",
   "metadata": {
    "id": "qHaxqDySIow_"
   },
   "source": [
    "# Importing Libraries"
   ]
  },
  {
   "cell_type": "code",
   "execution_count": 16,
   "metadata": {
    "executionInfo": {
     "elapsed": 17450,
     "status": "ok",
     "timestamp": 1702619002911,
     "user": {
      "displayName": "Shankar Narayanan G R",
      "userId": "06073656442154612321"
     },
     "user_tz": -330
    },
    "id": "f_gA3V_fIqlA"
   },
   "outputs": [],
   "source": [
    "# Import basic libraries\n",
    "import numpy as np\n",
    "import pandas as pd\n",
    "pd.set_option('display.max_columns', None)\n",
    "\n",
    "import matplotlib.pyplot as plt\n",
    "%matplotlib inline\n",
    "\n",
    "import seaborn as sns\n",
    "from sklearn.model_selection import train_test_split\n",
    "\n",
    "from datetime import date\n",
    "# from nsepythonserver import *\n",
    "from nsepython import *"
   ]
  },
  {
   "cell_type": "markdown",
   "metadata": {
    "id": "9qBrvv_MI3q2"
   },
   "source": [
    "# Unofficed functions code snippets"
   ]
  },
  {
   "cell_type": "markdown",
   "metadata": {
    "id": "1rFvS6pMjgo5"
   },
   "source": [
    "## equity_history"
   ]
  },
  {
   "cell_type": "code",
   "execution_count": 17,
   "metadata": {
    "colab": {
     "base_uri": "https://localhost:8080/"
    },
    "executionInfo": {
     "elapsed": 454,
     "status": "ok",
     "timestamp": 1702619842112,
     "user": {
      "displayName": "Shankar Narayanan G R",
      "userId": "06073656442154612321"
     },
     "user_tz": -330
    },
    "id": "KscUlrwzI0Y9",
    "outputId": "52de509c-c91b-4135-918e-0796bf920aa9"
   },
   "outputs": [
    {
     "name": "stdout",
     "output_type": "stream",
     "text": [
      "                        _id CH_SYMBOL CH_SERIES CH_MARKET_TYPE  \\\n",
      "0  63d7a3d2ce536a0007460775      SBIN        EQ              N   \n",
      "1  63d7a3e191e6ce00070a9f27      SBIN        EQ              N   \n",
      "2  63d7a3f006404c0006d94d31      SBIN        EQ              N   \n",
      "3  63d7a3ffb726b40007af6585      SBIN        EQ              N   \n",
      "4  63d7a40f3aa4bc0006fce1b1      SBIN        EQ              N   \n",
      "\n",
      "   CH_TRADE_HIGH_PRICE  CH_TRADE_LOW_PRICE  CH_OPENING_PRICE  \\\n",
      "0               432.50              424.00            432.25   \n",
      "1               432.30              418.20            427.50   \n",
      "2               433.30              422.40            424.90   \n",
      "3               435.50              425.25            434.85   \n",
      "4               432.45              416.70            427.00   \n",
      "\n",
      "   CH_CLOSING_PRICE  CH_LAST_TRADED_PRICE  CH_PREVIOUS_CLS_PRICE  \\\n",
      "0            427.20                427.40                 432.25   \n",
      "1            421.45                421.95                 427.20   \n",
      "2            432.25                432.40                 421.45   \n",
      "3            429.60                429.40                 432.25   \n",
      "4            430.35                430.00                 429.60   \n",
      "\n",
      "   CH_TOT_TRADED_QTY  CH_TOT_TRADED_VAL  CH_52WEEK_HIGH_PRICE  \\\n",
      "0           31113823       1.330030e+10                441.95   \n",
      "1           27784834       1.185249e+10                441.95   \n",
      "2           27397712       1.174471e+10                441.95   \n",
      "3           26831924       1.153870e+10                441.95   \n",
      "4           30106015       1.279312e+10                441.95   \n",
      "\n",
      "   CH_52WEEK_LOW_PRICE  CH_TOTAL_TRADES       CH_ISIN CH_TIMESTAMP  \\\n",
      "0               169.25           247824  INE062A01020   2021-06-08   \n",
      "1               169.25           241080  INE062A01020   2021-06-09   \n",
      "2               169.25           211924  INE062A01020   2021-06-10   \n",
      "3               169.25           211915  INE062A01020   2021-06-11   \n",
      "4               169.25           279081  INE062A01020   2021-06-14   \n",
      "\n",
      "                  TIMESTAMP                 createdAt  \\\n",
      "0  2021-06-07T18:30:00.000Z  2023-01-30T11:02:42.626Z   \n",
      "1  2021-06-08T18:30:00.000Z  2023-01-30T11:02:57.750Z   \n",
      "2  2021-06-09T18:30:00.000Z  2023-01-30T11:03:12.813Z   \n",
      "3  2021-06-10T18:30:00.000Z  2023-01-30T11:03:27.915Z   \n",
      "4  2021-06-13T18:30:00.000Z  2023-01-30T11:03:43.011Z   \n",
      "\n",
      "                  updatedAt  __v SLBMH_TOT_VAL    VWAP   mTIMESTAMP  \n",
      "0  2023-01-30T11:02:42.626Z    0          None  427.47  08-Jun-2021  \n",
      "1  2023-01-30T11:02:57.750Z    0          None  426.58  09-Jun-2021  \n",
      "2  2023-01-30T11:03:12.813Z    0          None  428.67  10-Jun-2021  \n",
      "3  2023-01-30T11:03:27.915Z    0          None  430.04  11-Jun-2021  \n",
      "4  2023-01-30T11:03:43.011Z    0          None  424.94  14-Jun-2021  \n"
     ]
    }
   ],
   "source": [
    "symbol = \"SBIN\"\n",
    "series = \"EQ\"\n",
    "start_date = \"08-06-2021\"\n",
    "end_date =\"14-06-2021\"\n",
    "print(equity_history(symbol,series,start_date,end_date))"
   ]
  },
  {
   "cell_type": "markdown",
   "metadata": {
    "id": "x5D2urvMjgo7"
   },
   "source": [
    "## derivative_history"
   ]
  },
  {
   "cell_type": "code",
   "execution_count": 18,
   "metadata": {
    "colab": {
     "base_uri": "https://localhost:8080/"
    },
    "executionInfo": {
     "elapsed": 3396,
     "status": "ok",
     "timestamp": 1702619845967,
     "user": {
      "displayName": "Shankar Narayanan G R",
      "userId": "06073656442154612321"
     },
     "user_tz": -330
    },
    "id": "aOMNmoHOjgo7",
    "outputId": "47a8528b-e509-4a9b-edc7-a84f0242106b"
   },
   "outputs": [
    {
     "name": "stdout",
     "output_type": "stream",
     "text": [
      "                        _id FH_INSTRUMENT FH_SYMBOL FH_EXPIRY_DT  \\\n",
      "0  6443fb9ebf1903287158e320        OPTSTK      SBIN  24-Jun-2021   \n",
      "1  6443fd93bf190328715961fc        OPTSTK      SBIN  24-Jun-2021   \n",
      "2  6443ff8dbf190328715a5ad4        OPTSTK      SBIN  24-Jun-2021   \n",
      "3  64440180bf190328715be0db        OPTSTK      SBIN  24-Jun-2021   \n",
      "\n",
      "  FH_STRIKE_PRICE FH_OPTION_TYPE FH_MARKET_TYPE FH_OPENING_PRICE  \\\n",
      "0          300.00             PE              N             1.65   \n",
      "1          300.00             PE              N             1.85   \n",
      "2          300.00             PE              N             0.80   \n",
      "3          300.00             PE              N             0.40   \n",
      "\n",
      "  FH_TRADE_HIGH_PRICE FH_TRADE_LOW_PRICE FH_CLOSING_PRICE  \\\n",
      "0                2.00               1.55             1.95   \n",
      "1                1.85               0.80             1.10   \n",
      "2                0.85               0.65             0.75   \n",
      "3                0.45               0.35             0.35   \n",
      "\n",
      "  FH_LAST_TRADED_PRICE FH_PREV_CLS FH_SETTLE_PRICE FH_TOT_TRADED_QTY  \\\n",
      "0                 1.95        1.75            1.95             78000   \n",
      "1                 1.10        1.95            1.10            376500   \n",
      "2                 0.70        0.80            0.75            238500   \n",
      "3                 0.35        0.40            0.35            139500   \n",
      "\n",
      "  FH_TOT_TRADED_VAL FH_OPEN_INT FH_CHANGE_IN_OI FH_MARKET_LOT FH_TIMESTAMP  \\\n",
      "0       23536350.00      496500        16500.00          1500  20-May-2021   \n",
      "1      113420475.00      535500        39000.00          1500  21-May-2021   \n",
      "2       71722125.00      661500        39000.00          1500  27-May-2021   \n",
      "3       41901825.00      838500        25500.00          1500  04-Jun-2021   \n",
      "\n",
      "                  TIMESTAMP  FH_UNDERLYING_VALUE  CALCULATED_PREMIUM_VAL  \n",
      "0  2021-05-19T18:30:00.000Z               543.15                  136350  \n",
      "1  2021-05-20T18:30:00.000Z               543.15                  470475  \n",
      "2  2021-05-26T18:30:00.000Z               543.15                  172125  \n",
      "3  2021-06-03T18:30:00.000Z               543.15                   51825  \n"
     ]
    }
   ],
   "source": [
    "symbol = \"SBIN\"\n",
    "start_date = \"15-05-2021\"\n",
    "end_date =\"15-06-2021\"\n",
    "instrumentType = \"options\"\n",
    "expiry_date =\"24-Jun-2021\"\n",
    "strikePrice = 300\n",
    "optionType=\"PE\"\n",
    "print(derivative_history(symbol,start_date,end_date,instrumentType,expiry_date,strikePrice,optionType))"
   ]
  },
  {
   "cell_type": "markdown",
   "metadata": {
    "id": "Da7YiLp5jgo8"
   },
   "source": [
    "## expiry_history"
   ]
  },
  {
   "cell_type": "code",
   "execution_count": 19,
   "metadata": {
    "colab": {
     "base_uri": "https://localhost:8080/"
    },
    "executionInfo": {
     "elapsed": 729,
     "status": "ok",
     "timestamp": 1702619846689,
     "user": {
      "displayName": "Shankar Narayanan G R",
      "userId": "06073656442154612321"
     },
     "user_tz": -330
    },
    "id": "tDnGYNakjgo9",
    "outputId": "6dfb7860-de07-4a12-8baf-12b4649eafaa"
   },
   "outputs": [
    {
     "name": "stdout",
     "output_type": "stream",
     "text": [
      "{'data': [['FUTSTK', 'OPTSTK'], ['CE', 'PE'], ['30-Jan-2020', '27-Feb-2020', '26-Mar-2020', '30-Apr-2020', '28-May-2020', '25-Jun-2020', '30-Jul-2020', '27-Aug-2020', '24-Sep-2020', '29-Oct-2020', '26-Nov-2020', '31-Dec-2020', '28-Jan-2021', '25-Feb-2021', '25-Mar-2021', '29-Apr-2021', '27-May-2021', '24-Jun-2021', '29-Jul-2021', '26-Aug-2021', '30-Sep-2021', '28-Oct-2021', '25-Nov-2021', '30-Dec-2021'], ['0', '0.00', '100', '102.5', '105', '107.5', '110', '112.5', '115', '117.5', '120', '122.5', '125', '127.5', '130', '132.5', '135', '137.5', '140', '142.5', '145', '147.5', '150', '152.5', '155', '157.5', '160', '162.5', '165', '165.00', '167.5', '170', '170.00', '172.5', '175', '175.00', '177.5', '180', '180.00', '182.5', '185', '185.00', '187.5', '190', '190.00', '192.5', '195', '195.00', '197.5', '200', '200.00', '202.5', '205', '205.00', '207.5', '210', '210.00', '212.5', '215', '215.00', '217.5', '220', '220.00', '222.5', '225', '225.00', '227.5', '230', '230.00', '232.5', '235', '235.00', '237.5', '240', '240.00', '242.5', '245', '245.00', '250', '250.00', '255', '255.00', '260', '260.00', '265', '265.00', '270', '270.00', '275', '275.00', '280', '280.00', '285', '285.00', '290', '290.00', '295', '295.00', '300', '300.00', '305', '305.00', '310', '310.00', '315', '315.00', '320', '320.00', '325', '325.00', '330', '330.00', '335', '335.00', '340', '340.00', '345', '345.00', '350', '350.00', '355', '355.00', '360', '360.00', '365', '365.00', '370', '370.00', '375', '375.00', '380', '380.00', '385', '385.00', '390', '390.00', '395', '395.00', '400', '400.00', '405', '405.00', '410', '410.00', '415', '415.00', '420', '420.00', '425', '425.00', '430', '430.00', '435', '435.00', '440', '440.00', '445', '445.00', '450', '450.00', '455', '455.00', '460', '460.00', '465', '465.00', '470', '470.00', '475', '475.00', '480', '480.00', '485', '485.00', '490', '490.00', '495', '495.00', '500', '500.00', '505', '505.00', '510', '510.00', '515', '515.00', '520', '520.00']], 'years': {'2020': ['28-May-2020', '25-Jun-2020', '30-Jul-2020', '27-Aug-2020', '24-Sep-2020', '29-Oct-2020', '26-Nov-2020', '31-Dec-2020'], '2021': ['28-Jan-2021', '25-Feb-2021', '25-Mar-2021', '29-Apr-2021', '27-May-2021', '24-Jun-2021', '29-Jul-2021', '26-Aug-2021'], 'all': ['2020', '2021']}, 'expiryDatesByInstrument': {'FUTSTK': ['30-Jan-2020', '27-Feb-2020', '26-Mar-2020', '30-Apr-2020', '28-May-2020', '25-Jun-2020', '30-Jul-2020', '27-Aug-2020', '24-Sep-2020', '29-Oct-2020', '26-Nov-2020', '31-Dec-2020', '28-Jan-2021', '25-Feb-2021', '25-Mar-2021', '29-Apr-2021', '27-May-2021', '24-Jun-2021', '29-Jul-2021', '26-Aug-2021', '30-Sep-2021', '28-Oct-2021', '25-Nov-2021', '30-Dec-2021'], 'OPTSTK': ['30-Jan-2020', '27-Feb-2020', '26-Mar-2020', '30-Apr-2020', '28-May-2020', '25-Jun-2020', '30-Jul-2020', '27-Aug-2020', '24-Sep-2020', '29-Oct-2020', '26-Nov-2020', '31-Dec-2020', '28-Jan-2021', '25-Feb-2021', '25-Mar-2021', '29-Apr-2021', '27-May-2021', '24-Jun-2021', '29-Jul-2021', '26-Aug-2021', '30-Sep-2021', '28-Oct-2021', '25-Nov-2021', '30-Dec-2021']}, 'yearsByInstrument': {'FUTSTK': {'2020': ['30-Jan-2020', '27-Feb-2020', '26-Mar-2020', '30-Apr-2020', '28-May-2020', '25-Jun-2020', '30-Jul-2020', '27-Aug-2020', '24-Sep-2020', '29-Oct-2020', '26-Nov-2020', '31-Dec-2020'], '2021': ['28-Jan-2021', '25-Feb-2021', '25-Mar-2021', '29-Apr-2021', '27-May-2021', '24-Jun-2021', '29-Jul-2021', '26-Aug-2021', '30-Sep-2021', '28-Oct-2021', '25-Nov-2021', '30-Dec-2021'], 'all': ['2020', '2021']}, 'OPTSTK': {'2020': ['30-Jan-2020', '27-Feb-2020', '26-Mar-2020', '30-Apr-2020', '28-May-2020', '25-Jun-2020', '30-Jul-2020', '27-Aug-2020', '24-Sep-2020', '29-Oct-2020', '26-Nov-2020', '31-Dec-2020'], '2021': ['28-Jan-2021', '25-Feb-2021', '25-Mar-2021', '29-Apr-2021', '27-May-2021', '24-Jun-2021', '29-Jul-2021', '26-Aug-2021', '30-Sep-2021', '28-Oct-2021', '25-Nov-2021', '30-Dec-2021'], 'all': ['2020', '2021']}}, 'from': '15-May-2020', 'to': '15-Jun-2021', 'symbol': 'SBIN'}\n",
      "['28-May-2020', '25-Jun-2020', '30-Jul-2020', '27-Aug-2020', '24-Sep-2020', '29-Oct-2020', '26-Nov-2020', '31-Dec-2020', '28-Jan-2021', '25-Feb-2021', '25-Mar-2021', '29-Apr-2021', '27-May-2021', '24-Jun-2021']\n"
     ]
    }
   ],
   "source": [
    "symbol = \"SBIN\"\n",
    "start_date = \"15-05-2020\"\n",
    "end_date = \"15-06-2021\"\n",
    "\n",
    "print(expiry_history(symbol,start_date,end_date))\n",
    "# print(expiry_history(symbol,start_date))\n",
    "# print(expiry_history(symbol))"
   ]
  },
  {
   "cell_type": "markdown",
   "metadata": {
    "id": "EZ9aRuGSjgo9"
   },
   "source": [
    "## index_history"
   ]
  },
  {
   "cell_type": "code",
   "execution_count": 20,
   "metadata": {
    "colab": {
     "base_uri": "https://localhost:8080/"
    },
    "executionInfo": {
     "elapsed": 3140,
     "status": "ok",
     "timestamp": 1702619849819,
     "user": {
      "displayName": "Shankar Narayanan G R",
      "userId": "06073656442154612321"
     },
     "user_tz": -330
    },
    "id": "b8Y_ipW3jgo-",
    "outputId": "9231293e-b75e-4bf3-ed07-107e766a04e9"
   },
   "outputs": [
    {
     "name": "stdout",
     "output_type": "stream",
     "text": [
      "     Index Name INDEX_NAME HistoricalDate      OPEN      HIGH       LOW  \\\n",
      "0      Nifty 50   NIFTY 50    07 Jun 2021   15725.1  15773.45   15678.1   \n",
      "1      Nifty 50   NIFTY 50    04 Jun 2021   15712.5   15733.6  15622.35   \n",
      "2      Nifty 50   NIFTY 50    03 Jun 2021  15655.55   15705.1     15611   \n",
      "3      Nifty 50   NIFTY 50    02 Jun 2021  15520.35  15597.45  15459.85   \n",
      "4      Nifty 50   NIFTY 50    01 Jun 2021  15629.65  15660.75   15528.3   \n",
      "...         ...        ...            ...       ...       ...       ...   \n",
      "2538   Nifty 50   Nifty 50    08 Mar 2011    5466.1   5530.55   5464.75   \n",
      "2539   Nifty 50   Nifty 50    07 Mar 2011   5490.05   5491.25   5408.45   \n",
      "2540   Nifty 50   Nifty 50    04 Mar 2011    5586.2    5608.2    5524.1   \n",
      "2541   Nifty 50   Nifty 50    03 Mar 2011   5478.45   5570.75   5468.25   \n",
      "2542   Nifty 50   Nifty 50    01 Mar 2011      5382   5533.05   5373.55   \n",
      "\n",
      "         CLOSE  \n",
      "0     15751.65  \n",
      "1     15670.25  \n",
      "2     15690.35  \n",
      "3     15576.20  \n",
      "4     15574.85  \n",
      "...        ...  \n",
      "2538   5520.80  \n",
      "2539   5463.10  \n",
      "2540   5538.70  \n",
      "2541   5536.20  \n",
      "2542   5522.30  \n",
      "\n",
      "[2543 rows x 7 columns]\n"
     ]
    }
   ],
   "source": [
    "symbol = \"NIFTY 50\"\n",
    "start_date = \"01-Mar-2011\"\n",
    "end_date = \"07-Jun-2021\"\n",
    "print(index_history(symbol,start_date,end_date))"
   ]
  },
  {
   "cell_type": "markdown",
   "metadata": {
    "id": "vMs9LsTOjgo_"
   },
   "source": [
    "## index_pe_pb_div"
   ]
  },
  {
   "cell_type": "code",
   "execution_count": 21,
   "metadata": {
    "colab": {
     "base_uri": "https://localhost:8080/"
    },
    "executionInfo": {
     "elapsed": 1365,
     "status": "ok",
     "timestamp": 1702619851174,
     "user": {
      "displayName": "Shankar Narayanan G R",
      "userId": "06073656442154612321"
     },
     "user_tz": -330
    },
    "id": "8MTFZDRjjgo_",
    "outputId": "2e293586-421f-4d78-ef4d-a1209933b45d"
   },
   "outputs": [
    {
     "name": "stdout",
     "output_type": "stream",
     "text": [
      "     Index Name     pe    pb divYield         DATE\n",
      "0      NIFTY 50  29.21  4.44     1.07  07 Jun 2021\n",
      "1      NIFTY 50  29.06  4.42     1.07  04 Jun 2021\n",
      "2      NIFTY 50  29.10  4.43     1.07  03 Jun 2021\n",
      "3      NIFTY 50  28.88  4.39     1.06  02 Jun 2021\n",
      "4      NIFTY 50  28.87  4.39     1.07  01 Jun 2021\n",
      "...         ...    ...   ...      ...          ...\n",
      "2538   Nifty 50  21.14   3.5     1.13  08 Mar 2011\n",
      "2539   Nifty 50  20.92  3.46     1.14  07 Mar 2011\n",
      "2540   Nifty 50  21.21  3.51     1.12  04 Mar 2011\n",
      "2541   Nifty 50   21.2  3.51     1.12  03 Mar 2011\n",
      "2542   Nifty 50  21.14   3.5     1.13  01 Mar 2011\n",
      "\n",
      "[2543 rows x 5 columns]\n"
     ]
    }
   ],
   "source": [
    "symbol = \"NIFTY 50\"\n",
    "start_date = \"01-Mar-2011\"\n",
    "end_date = \"07-Jun-2021\"\n",
    "print(index_pe_pb_div(symbol,start_date,end_date))"
   ]
  },
  {
   "cell_type": "markdown",
   "metadata": {
    "id": "DtMptoKTjgpA"
   },
   "source": [
    "## index_total_returns"
   ]
  },
  {
   "cell_type": "code",
   "execution_count": 22,
   "metadata": {
    "colab": {
     "base_uri": "https://localhost:8080/"
    },
    "executionInfo": {
     "elapsed": 2177,
     "status": "ok",
     "timestamp": 1702619853340,
     "user": {
      "displayName": "Shankar Narayanan G R",
      "userId": "06073656442154612321"
     },
     "user_tz": -330
    },
    "id": "mauJmOlcjgpA",
    "outputId": "801fce8a-46d3-4f3f-d0ae-4c72229939ce"
   },
   "outputs": [
    {
     "name": "stdout",
     "output_type": "stream",
     "text": [
      "     Index Name         Date TotalReturnsIndex\n",
      "0      NIFTY 50  07 Jun 2021          22449.24\n",
      "1      NIFTY 50  04 Jun 2021          22333.23\n",
      "2      NIFTY 50  03 Jun 2021          22361.86\n",
      "3      NIFTY 50  02 Jun 2021          22194.18\n",
      "4      NIFTY 50  01 Jun 2021          22192.25\n",
      "...         ...          ...               ...\n",
      "2538   Nifty 50  08 Mar 2011           6931.56\n",
      "2539   Nifty 50  07 Mar 2011           6859.22\n",
      "2540   Nifty 50  04 Mar 2011           6954.14\n",
      "2541   Nifty 50  03 Mar 2011           6950.94\n",
      "2542   Nifty 50  01 Mar 2011           6933.43\n",
      "\n",
      "[2543 rows x 3 columns]\n"
     ]
    }
   ],
   "source": [
    "symbol = \"NIFTY 50\"\n",
    "start_date = \"01-Mar-2011\"\n",
    "end_date = \"07-Jun-2021\"\n",
    "print(index_total_returns(symbol,start_date,end_date))"
   ]
  },
  {
   "cell_type": "markdown",
   "metadata": {
    "id": "FHbSdoe1jgpB"
   },
   "source": [
    "## get_bhavcopy"
   ]
  },
  {
   "cell_type": "code",
   "execution_count": 23,
   "metadata": {
    "colab": {
     "base_uri": "https://localhost:8080/"
    },
    "executionInfo": {
     "elapsed": 461,
     "status": "ok",
     "timestamp": 1702619853794,
     "user": {
      "displayName": "Shankar Narayanan G R",
      "userId": "06073656442154612321"
     },
     "user_tz": -330
    },
    "id": "xjEFQnwFjgpB",
    "outputId": "0042bb2e-b64c-4a8e-9dac-430b3ab25f9c"
   },
   "outputs": [
    {
     "name": "stdout",
     "output_type": "stream",
     "text": [
      "          SYMBOL  SERIES         DATE1   PREV_CLOSE   OPEN_PRICE   HIGH_PRICE  \\\n",
      "0     1018GS2026      GS   04-Jun-2021       106.00       102.00       102.00   \n",
      "1      20MICRONS      EQ   04-Jun-2021        62.55        63.40        64.35   \n",
      "2     21STCENMGM      EQ   04-Jun-2021        15.95        15.95        16.25   \n",
      "3     3IINFOTECH      EQ   04-Jun-2021         8.95         8.90         9.00   \n",
      "4        3MINDIA      EQ   04-Jun-2021     26261.80     26431.80     26648.70   \n",
      "...          ...     ...           ...          ...          ...          ...   \n",
      "2053   ZODJRDMKJ      BE   04-Jun-2021        36.60        37.40        37.40   \n",
      "2054        ZOTA      EQ   04-Jun-2021       183.75       184.00       184.00   \n",
      "2055       ZUARI      EQ   04-Jun-2021        97.30        97.85        98.40   \n",
      "2056   ZUARIGLOB      EQ   04-Jun-2021        92.55        93.95        94.00   \n",
      "2057   ZYDUSWELL      EQ   04-Jun-2021      2083.75      2095.25      2107.45   \n",
      "\n",
      "       LOW_PRICE  LAST_PRICE   CLOSE_PRICE   AVG_PRICE   TTL_TRD_QNTY  \\\n",
      "0         102.00      102.00        102.00      102.00             50   \n",
      "1          61.30       61.95         61.90       62.25         213663   \n",
      "2          15.95       16.25         16.25       16.25            358   \n",
      "3           8.70        8.85          8.85        8.85       13804265   \n",
      "4       26000.00    26113.70      26110.45    26301.91           2347   \n",
      "...          ...         ...           ...         ...            ...   \n",
      "2053       34.85       35.05         36.45       36.10           8456   \n",
      "2054      160.00      172.95        173.60      174.48         121798   \n",
      "2055       96.05       96.35         96.50       97.08          89071   \n",
      "2056       91.00       93.25         92.65       92.34          53853   \n",
      "2057     2080.00     2091.00       2096.90     2082.57         169249   \n",
      "\n",
      "       TURNOVER_LACS   NO_OF_TRADES  DELIV_QTY  DELIV_PER  \n",
      "0               0.05              1         50     100.00  \n",
      "1             133.00           1813     131248      61.43  \n",
      "2               0.06              8        358     100.00  \n",
      "3            1221.17          15649    9166344      66.40  \n",
      "4             617.31           1771       1192      50.79  \n",
      "...              ...            ...        ...        ...  \n",
      "2053            3.05             72          -          -  \n",
      "2054          212.51           3414      52566      43.16  \n",
      "2055           86.47           1569      50221      56.38  \n",
      "2056           49.73            559      37343      69.34  \n",
      "2057         3524.73           2958     154029      91.01  \n",
      "\n",
      "[2058 rows x 15 columns]\n"
     ]
    }
   ],
   "source": [
    "print(get_bhavcopy(\"04-06-2021\"))"
   ]
  },
  {
   "cell_type": "markdown",
   "metadata": {
    "id": "exWJ63P-I0w_"
   },
   "source": [
    "# Functions"
   ]
  },
  {
   "cell_type": "code",
   "execution_count": 24,
   "metadata": {
    "executionInfo": {
     "elapsed": 9,
     "status": "ok",
     "timestamp": 1702619853794,
     "user": {
      "displayName": "Shankar Narayanan G R",
      "userId": "06073656442154612321"
     },
     "user_tz": -330
    },
    "id": "16a-0KFVI2Zg"
   },
   "outputs": [],
   "source": [
    "# A function to import NIFTY data from nsepy using get_history method\n",
    "\n",
    "# def import_nifty_data(start_date, end_date):\n",
    "#     nifty_data = get_history(symbol=\"NIFTY\", index=True, start=start_date, end=end_date)\n",
    "#     return nifty_data"
   ]
  },
  {
   "cell_type": "markdown",
   "metadata": {
    "id": "RZlinAKMIuxA",
    "jp-MarkdownHeadingCollapsed": true
   },
   "source": [
    "# Variables"
   ]
  },
  {
   "cell_type": "markdown",
   "metadata": {
    "id": "MPQtlc-9jgpC"
   },
   "source": [
    "# Nifty Data Download - nifty_df"
   ]
  },
  {
   "cell_type": "code",
   "execution_count": 213,
   "metadata": {
    "colab": {
     "base_uri": "https://localhost:8080/"
    },
    "executionInfo": {
     "elapsed": 2858,
     "status": "ok",
     "timestamp": 1702619856644,
     "user": {
      "displayName": "Shankar Narayanan G R",
      "userId": "06073656442154612321"
     },
     "user_tz": -330
    },
    "id": "lipHnqJNjgpC",
    "outputId": "32fc4ef5-0cfc-4f50-d400-dfd40ba38aaa"
   },
   "outputs": [
    {
     "name": "stdout",
     "output_type": "stream",
     "text": [
      "     Index Name INDEX_NAME HistoricalDate      OPEN      HIGH       LOW  \\\n",
      "0      Nifty 50   Nifty 50    30 Nov 2023   20108.5   20158.7  20015.85   \n",
      "1      Nifty 50   Nifty 50    29 Nov 2023  19976.55  20104.65   19956.3   \n",
      "2      Nifty 50   Nifty 50    28 Nov 2023  19844.65  19916.85     19800   \n",
      "3      Nifty 50   Nifty 50    24 Nov 2023   19809.6  19832.85  19768.85   \n",
      "4      Nifty 50   Nifty 50    23 Nov 2023  19828.45  19875.15  19786.75   \n",
      "...         ...        ...            ...       ...       ...       ...   \n",
      "5943   Nifty 50   Nifty 50    07 Jan 2000    1616.6   1628.25    1597.2   \n",
      "5944   Nifty 50   Nifty 50    06 Jan 2000    1595.8      1639    1595.8   \n",
      "5945   Nifty 50   Nifty 50    05 Jan 2000   1634.55    1635.5   1555.05   \n",
      "5946   Nifty 50   Nifty 50    04 Jan 2000    1594.4   1641.95    1594.4   \n",
      "5947   Nifty 50   Nifty 50    03 Jan 2000   1482.15    1592.9   1482.15   \n",
      "\n",
      "         CLOSE  \n",
      "0     20133.15  \n",
      "1     20096.60  \n",
      "2     19889.70  \n",
      "3     19794.70  \n",
      "4     19802.00  \n",
      "...        ...  \n",
      "5943   1613.30  \n",
      "5944   1617.60  \n",
      "5945   1595.80  \n",
      "5946   1638.70  \n",
      "5947   1592.20  \n",
      "\n",
      "[5948 rows x 7 columns]\n"
     ]
    }
   ],
   "source": [
    "symbol = \"NIFTY 50\"\n",
    "start_date = \"01-Jan-2000\"\n",
    "end_date = \"30-Nov-2023\"\n",
    "nifty_df = index_history(symbol,start_date,end_date)\n",
    "print(nifty_df)"
   ]
  },
  {
   "cell_type": "code",
   "execution_count": 214,
   "metadata": {
    "colab": {
     "base_uri": "https://localhost:8080/",
     "height": 424
    },
    "executionInfo": {
     "elapsed": 19,
     "status": "ok",
     "timestamp": 1702619856645,
     "user": {
      "displayName": "Shankar Narayanan G R",
      "userId": "06073656442154612321"
     },
     "user_tz": -330
    },
    "id": "4_qHUaV3jgpD",
    "outputId": "dfe455a2-ec53-43bb-da5c-5f23e9d0d881"
   },
   "outputs": [
    {
     "data": {
      "text/html": [
       "<div>\n",
       "<style scoped>\n",
       "    .dataframe tbody tr th:only-of-type {\n",
       "        vertical-align: middle;\n",
       "    }\n",
       "\n",
       "    .dataframe tbody tr th {\n",
       "        vertical-align: top;\n",
       "    }\n",
       "\n",
       "    .dataframe thead th {\n",
       "        text-align: right;\n",
       "    }\n",
       "</style>\n",
       "<table border=\"1\" class=\"dataframe\">\n",
       "  <thead>\n",
       "    <tr style=\"text-align: right;\">\n",
       "      <th></th>\n",
       "      <th>Index Name</th>\n",
       "      <th>INDEX_NAME</th>\n",
       "      <th>HistoricalDate</th>\n",
       "      <th>OPEN</th>\n",
       "      <th>HIGH</th>\n",
       "      <th>LOW</th>\n",
       "      <th>CLOSE</th>\n",
       "    </tr>\n",
       "  </thead>\n",
       "  <tbody>\n",
       "    <tr>\n",
       "      <th>0</th>\n",
       "      <td>Nifty 50</td>\n",
       "      <td>Nifty 50</td>\n",
       "      <td>30 Nov 2023</td>\n",
       "      <td>20108.5</td>\n",
       "      <td>20158.7</td>\n",
       "      <td>20015.85</td>\n",
       "      <td>20133.15</td>\n",
       "    </tr>\n",
       "    <tr>\n",
       "      <th>1</th>\n",
       "      <td>Nifty 50</td>\n",
       "      <td>Nifty 50</td>\n",
       "      <td>29 Nov 2023</td>\n",
       "      <td>19976.55</td>\n",
       "      <td>20104.65</td>\n",
       "      <td>19956.3</td>\n",
       "      <td>20096.60</td>\n",
       "    </tr>\n",
       "    <tr>\n",
       "      <th>2</th>\n",
       "      <td>Nifty 50</td>\n",
       "      <td>Nifty 50</td>\n",
       "      <td>28 Nov 2023</td>\n",
       "      <td>19844.65</td>\n",
       "      <td>19916.85</td>\n",
       "      <td>19800</td>\n",
       "      <td>19889.70</td>\n",
       "    </tr>\n",
       "    <tr>\n",
       "      <th>3</th>\n",
       "      <td>Nifty 50</td>\n",
       "      <td>Nifty 50</td>\n",
       "      <td>24 Nov 2023</td>\n",
       "      <td>19809.6</td>\n",
       "      <td>19832.85</td>\n",
       "      <td>19768.85</td>\n",
       "      <td>19794.70</td>\n",
       "    </tr>\n",
       "    <tr>\n",
       "      <th>4</th>\n",
       "      <td>Nifty 50</td>\n",
       "      <td>Nifty 50</td>\n",
       "      <td>23 Nov 2023</td>\n",
       "      <td>19828.45</td>\n",
       "      <td>19875.15</td>\n",
       "      <td>19786.75</td>\n",
       "      <td>19802.00</td>\n",
       "    </tr>\n",
       "    <tr>\n",
       "      <th>...</th>\n",
       "      <td>...</td>\n",
       "      <td>...</td>\n",
       "      <td>...</td>\n",
       "      <td>...</td>\n",
       "      <td>...</td>\n",
       "      <td>...</td>\n",
       "      <td>...</td>\n",
       "    </tr>\n",
       "    <tr>\n",
       "      <th>5943</th>\n",
       "      <td>Nifty 50</td>\n",
       "      <td>Nifty 50</td>\n",
       "      <td>07 Jan 2000</td>\n",
       "      <td>1616.6</td>\n",
       "      <td>1628.25</td>\n",
       "      <td>1597.2</td>\n",
       "      <td>1613.30</td>\n",
       "    </tr>\n",
       "    <tr>\n",
       "      <th>5944</th>\n",
       "      <td>Nifty 50</td>\n",
       "      <td>Nifty 50</td>\n",
       "      <td>06 Jan 2000</td>\n",
       "      <td>1595.8</td>\n",
       "      <td>1639</td>\n",
       "      <td>1595.8</td>\n",
       "      <td>1617.60</td>\n",
       "    </tr>\n",
       "    <tr>\n",
       "      <th>5945</th>\n",
       "      <td>Nifty 50</td>\n",
       "      <td>Nifty 50</td>\n",
       "      <td>05 Jan 2000</td>\n",
       "      <td>1634.55</td>\n",
       "      <td>1635.5</td>\n",
       "      <td>1555.05</td>\n",
       "      <td>1595.80</td>\n",
       "    </tr>\n",
       "    <tr>\n",
       "      <th>5946</th>\n",
       "      <td>Nifty 50</td>\n",
       "      <td>Nifty 50</td>\n",
       "      <td>04 Jan 2000</td>\n",
       "      <td>1594.4</td>\n",
       "      <td>1641.95</td>\n",
       "      <td>1594.4</td>\n",
       "      <td>1638.70</td>\n",
       "    </tr>\n",
       "    <tr>\n",
       "      <th>5947</th>\n",
       "      <td>Nifty 50</td>\n",
       "      <td>Nifty 50</td>\n",
       "      <td>03 Jan 2000</td>\n",
       "      <td>1482.15</td>\n",
       "      <td>1592.9</td>\n",
       "      <td>1482.15</td>\n",
       "      <td>1592.20</td>\n",
       "    </tr>\n",
       "  </tbody>\n",
       "</table>\n",
       "<p>5948 rows × 7 columns</p>\n",
       "</div>"
      ],
      "text/plain": [
       "     Index Name INDEX_NAME HistoricalDate      OPEN      HIGH       LOW  \\\n",
       "0      Nifty 50   Nifty 50    30 Nov 2023   20108.5   20158.7  20015.85   \n",
       "1      Nifty 50   Nifty 50    29 Nov 2023  19976.55  20104.65   19956.3   \n",
       "2      Nifty 50   Nifty 50    28 Nov 2023  19844.65  19916.85     19800   \n",
       "3      Nifty 50   Nifty 50    24 Nov 2023   19809.6  19832.85  19768.85   \n",
       "4      Nifty 50   Nifty 50    23 Nov 2023  19828.45  19875.15  19786.75   \n",
       "...         ...        ...            ...       ...       ...       ...   \n",
       "5943   Nifty 50   Nifty 50    07 Jan 2000    1616.6   1628.25    1597.2   \n",
       "5944   Nifty 50   Nifty 50    06 Jan 2000    1595.8      1639    1595.8   \n",
       "5945   Nifty 50   Nifty 50    05 Jan 2000   1634.55    1635.5   1555.05   \n",
       "5946   Nifty 50   Nifty 50    04 Jan 2000    1594.4   1641.95    1594.4   \n",
       "5947   Nifty 50   Nifty 50    03 Jan 2000   1482.15    1592.9   1482.15   \n",
       "\n",
       "         CLOSE  \n",
       "0     20133.15  \n",
       "1     20096.60  \n",
       "2     19889.70  \n",
       "3     19794.70  \n",
       "4     19802.00  \n",
       "...        ...  \n",
       "5943   1613.30  \n",
       "5944   1617.60  \n",
       "5945   1595.80  \n",
       "5946   1638.70  \n",
       "5947   1592.20  \n",
       "\n",
       "[5948 rows x 7 columns]"
      ]
     },
     "execution_count": 214,
     "metadata": {},
     "output_type": "execute_result"
    }
   ],
   "source": [
    "nifty_df"
   ]
  },
  {
   "cell_type": "code",
   "execution_count": 27,
   "metadata": {
    "executionInfo": {
     "elapsed": 458,
     "status": "ok",
     "timestamp": 1702619925743,
     "user": {
      "displayName": "Shankar Narayanan G R",
      "userId": "06073656442154612321"
     },
     "user_tz": -330
    },
    "id": "wb9GVFrljgpD"
   },
   "outputs": [],
   "source": [
    "# # Define your path\n",
    "# file_path = \"/home/shankar/1MyProjects/test_poetry_project/data/raw/nifty_historic.csv\"\n",
    "\n",
    "# # Save the DataFrame to the specified path\n",
    "# nifty_df.to_csv(file_path, index=False)"
   ]
  },
  {
   "cell_type": "markdown",
   "metadata": {
    "id": "ZtfINPTejgpE"
   },
   "source": [
    "# IndiaVIX data Download - indiavix_df"
   ]
  },
  {
   "cell_type": "code",
   "execution_count": 28,
   "metadata": {
    "executionInfo": {
     "elapsed": 14,
     "status": "ok",
     "timestamp": 1702619926245,
     "user": {
      "displayName": "Shankar Narayanan G R",
      "userId": "06073656442154612321"
     },
     "user_tz": -330
    },
    "id": "-yZIT6yKjgpE"
   },
   "outputs": [],
   "source": [
    "def indiavix_history_virgin(start_date,end_date):\n",
    "    #url=\"https://www.nseindia.com/api/historical/cm/equity?symbol=\"+symbol+\"&series=[%22\"+series+\"%22]&from=\"+str(start_date)+\"&to=\"+str(end_date)+\"\"\n",
    "    #https://www.nseindia.com/api/historical/vixhistory?from=14-12-2022&to=14-12-2023\n",
    "    url = 'https://www.nseindia.com/api/historical/vixhistory?from=' + start_date + '&to=' + end_date\n",
    "\n",
    "    payload = nsefetch(url)\n",
    "    return pd.DataFrame.from_records(payload[\"data\"])"
   ]
  },
  {
   "cell_type": "code",
   "execution_count": 29,
   "metadata": {
    "executionInfo": {
     "elapsed": 14,
     "status": "ok",
     "timestamp": 1702619926246,
     "user": {
      "displayName": "Shankar Narayanan G R",
      "userId": "06073656442154612321"
     },
     "user_tz": -330
    },
    "id": "K1gKjgU5jgpF"
   },
   "outputs": [],
   "source": [
    "# Testing indiavix_history_virging function\n",
    "\n",
    "# start_date = \"14-12-2022\"\n",
    "# end_date =\"14-12-2023\"\n",
    "# print(indiavix_history_virgin(start_date,end_date))"
   ]
  },
  {
   "cell_type": "code",
   "execution_count": 30,
   "metadata": {
    "executionInfo": {
     "elapsed": 13,
     "status": "ok",
     "timestamp": 1702619926246,
     "user": {
      "displayName": "Shankar Narayanan G R",
      "userId": "06073656442154612321"
     },
     "user_tz": -330
    },
    "id": "qo9YVay_jgpF"
   },
   "outputs": [],
   "source": [
    "# You shall see beautiful use the logger function.\n",
    "def indiavix_history(start_date,end_date):\n",
    "    #We are getting the input in text. So it is being converted to Datetime object from String.\n",
    "    start_date = datetime.datetime.strptime(start_date, \"%d-%m-%Y\")\n",
    "    end_date = datetime.datetime.strptime(end_date, \"%d-%m-%Y\")\n",
    "    logging.info(\"Starting Date: \"+str(start_date))\n",
    "    logging.info(\"Ending Date: \"+str(end_date))\n",
    "\n",
    "    #We are calculating the difference between the days\n",
    "    diff = end_date-start_date\n",
    "    logging.info(\"Total Number of Days: \"+str(diff.days))\n",
    "    logging.info(\"Total FOR Loops in the program: \"+str(int(diff.days/40)))\n",
    "    logging.info(\"Remainder Loop: \" + str(diff.days-(int(diff.days/40)*40)))\n",
    "\n",
    "\n",
    "    total=pd.DataFrame()\n",
    "    for i in range (0,int(diff.days/40)):\n",
    "\n",
    "        temp_date = (start_date+datetime.timedelta(days=(40))).strftime(\"%d-%m-%Y\")\n",
    "        start_date = datetime.datetime.strftime(start_date, \"%d-%m-%Y\")\n",
    "\n",
    "        logging.info(\"Loop = \"+str(i))\n",
    "        logging.info(\"====\")\n",
    "        logging.info(\"Starting Date: \"+str(start_date))\n",
    "        logging.info(\"Ending Date: \"+str(temp_date))\n",
    "        logging.info(\"====\")\n",
    "\n",
    "        #total=total.append(equity_history_virgin(symbol,series,start_date,temp_date))\n",
    "        #total=total.concat(equity_history_virgin(symbol,series,start_date,temp_date))\n",
    "        total = pd.concat([total, indiavix_history_virgin(start_date, temp_date)])\n",
    "\n",
    "\n",
    "        logging.info(\"Length of the Table: \"+ str(len(total)))\n",
    "\n",
    "        #Preparation for the next loop\n",
    "        start_date = datetime.datetime.strptime(temp_date, \"%d-%m-%Y\")\n",
    "\n",
    "\n",
    "    start_date = datetime.datetime.strftime(start_date, \"%d-%m-%Y\")\n",
    "    end_date = datetime.datetime.strftime(end_date, \"%d-%m-%Y\")\n",
    "\n",
    "    logging.info(\"End Loop\")\n",
    "    logging.info(\"====\")\n",
    "    logging.info(\"Starting Date: \"+str(start_date))\n",
    "    logging.info(\"Ending Date: \"+str(end_date))\n",
    "    logging.info(\"====\")\n",
    "\n",
    "    #total=total.append(equity_history_virgin(symbol,series,start_date,end_date))\n",
    "    #total=total.concat(equity_history_virgin(symbol,series,start_date,end_date))\n",
    "    total = pd.concat([total, indiavix_history_virgin(start_date, end_date)])\n",
    "\n",
    "\n",
    "    logging.info(\"Finale\")\n",
    "    logging.info(\"Length of the Total Dataset: \"+ str(len(total)))\n",
    "    payload = total.iloc[::-1].reset_index(drop=True)\n",
    "    return payload"
   ]
  },
  {
   "cell_type": "code",
   "execution_count": 31,
   "metadata": {
    "executionInfo": {
     "elapsed": 13,
     "status": "ok",
     "timestamp": 1702619926247,
     "user": {
      "displayName": "Shankar Narayanan G R",
      "userId": "06073656442154612321"
     },
     "user_tz": -330
    },
    "id": "gctZ7aXzjgpG"
   },
   "outputs": [],
   "source": [
    "# print(nsefetch('https://www.nseindia.com/api/historical/vixhistory?from=14-12-2022&to=14-12-2023'))"
   ]
  },
  {
   "cell_type": "code",
   "execution_count": 32,
   "metadata": {
    "colab": {
     "base_uri": "https://localhost:8080/"
    },
    "executionInfo": {
     "elapsed": 109016,
     "status": "ok",
     "timestamp": 1702620035251,
     "user": {
      "displayName": "Shankar Narayanan G R",
      "userId": "06073656442154612321"
     },
     "user_tz": -330
    },
    "id": "fOESKRT-jgpG",
    "outputId": "065ade48-8315-4a00-ebb2-0520af0858d0"
   },
   "outputs": [
    {
     "name": "stdout",
     "output_type": "stream",
     "text": [
      "                           _id EOD_TIMESTAMP EOD_INDEX_NAME  \\\n",
      "0     65687a6d7080cd39031f6bf9   30-NOV-2023      INDIA VIX   \n",
      "1     656728f2f8357ba7c82e2428   29-NOV-2023      INDIA VIX   \n",
      "2     6565d76d2463dd1e8d5bae88   28-NOV-2023      INDIA VIX   \n",
      "3     6560916f326136637ff5ec84   24-NOV-2023      INDIA VIX   \n",
      "4     655f3ff0dddd587f80128e35   23-NOV-2023      INDIA VIX   \n",
      "...                        ...           ...            ...   \n",
      "2763  64996b580715db000745551f   07-JAN-2013      INDIA VIX   \n",
      "2764  64996b4e7f346a00085d3b23   04-JAN-2013      INDIA VIX   \n",
      "2765  64996b44c504a400073793d5   03-JAN-2013      INDIA VIX   \n",
      "2766  64996b3a583df60007d9b8bc   02-JAN-2013      INDIA VIX   \n",
      "2767  64996b303c4faf0007f069a4   01-JAN-2013      INDIA VIX   \n",
      "\n",
      "      EOD_OPEN_INDEX_VAL  EOD_CLOSE_INDEX_VAL  EOD_HIGH_INDEX_VAL  \\\n",
      "0                12.7075              12.6900             13.3525   \n",
      "1                12.1750              12.7075             14.4600   \n",
      "2                11.3300              12.1750             12.4925   \n",
      "3                11.3150              11.3300             11.4650   \n",
      "4                11.8650              11.3150             12.1400   \n",
      "...                  ...                  ...                 ...   \n",
      "2763             13.3700              13.9200             14.0400   \n",
      "2764             13.4700              13.3700             13.6300   \n",
      "2765             13.7100              13.4700             13.9400   \n",
      "2766             13.6900              13.7100             13.9100   \n",
      "2767             14.9500              13.6900             14.9500   \n",
      "\n",
      "      EOD_LOW_INDEX_VAL  EOD_PREV_CLOSE                 TIMESTAMP  \\\n",
      "0               11.7625         12.7075  2023-11-29T18:30:00.000Z   \n",
      "1               11.3325         12.1750  2023-11-28T18:30:00.000Z   \n",
      "2               11.0650         11.3300  2023-11-27T18:30:00.000Z   \n",
      "3                8.6775         11.3150  2023-11-23T18:30:00.000Z   \n",
      "4               10.9750         11.8650  2023-11-22T18:30:00.000Z   \n",
      "...                 ...             ...                       ...   \n",
      "2763            13.3700         13.3700  2013-01-06T18:30:00.000Z   \n",
      "2764            13.2800         13.4700  2013-01-03T18:30:00.000Z   \n",
      "2765            13.2200         13.7100  2013-01-02T18:30:00.000Z   \n",
      "2766            12.9900         13.6900  2013-01-01T18:30:00.000Z   \n",
      "2767            13.6400         14.9500  2012-12-31T18:30:00.000Z   \n",
      "\n",
      "      VIX_PTS_CHG  VIX_PERC_CHG ALTERNATE_INDEX_NAME  \\\n",
      "0         -0.0175     -0.137714            INDIA VIX   \n",
      "1          0.5325      4.373717            INDIA VIX   \n",
      "2          0.8450      7.458076            INDIA VIX   \n",
      "3          0.0150      0.132567            INDIA VIX   \n",
      "4         -0.5500     -4.635483            INDIA VIX   \n",
      "...           ...           ...                  ...   \n",
      "2763       0.5500      4.113687            INDIA VIX   \n",
      "2764      -0.1000     -0.742390            INDIA VIX   \n",
      "2765      -0.2400     -1.750547            INDIA VIX   \n",
      "2766       0.0200      0.146092            INDIA VIX   \n",
      "2767      -1.2600     -8.428094            INDIA VIX   \n",
      "\n",
      "                     createdAt                 updatedAt  __v  \n",
      "0     2023-11-30T12:05:01.977Z  2023-11-30T12:05:01.977Z    0  \n",
      "1     2023-11-29T12:05:06.347Z  2023-11-29T12:05:06.347Z    0  \n",
      "2     2023-11-28T12:05:01.684Z  2023-11-28T12:05:01.684Z    0  \n",
      "3     2023-11-24T12:05:03.629Z  2023-11-24T12:05:03.629Z    0  \n",
      "4     2023-11-23T12:05:04.311Z  2023-11-23T12:05:04.311Z    0  \n",
      "...                        ...                       ...  ...  \n",
      "2763  2023-06-26T10:41:28.828Z  2023-06-26T10:41:28.828Z    0  \n",
      "2764  2023-06-26T10:41:18.797Z  2023-06-26T10:41:18.797Z    0  \n",
      "2765  2023-06-26T10:41:08.746Z  2023-06-26T10:41:08.746Z    0  \n",
      "2766  2023-06-26T10:40:58.695Z  2023-06-26T10:40:58.695Z    0  \n",
      "2767  2023-06-26T10:40:48.650Z  2023-06-26T10:40:48.650Z    0  \n",
      "\n",
      "[2768 rows x 15 columns]\n"
     ]
    }
   ],
   "source": [
    "start_date = \"01-01-2000\"\n",
    "end_date =\"30-11-2023\"\n",
    "indiavix_df = indiavix_history(start_date,end_date)\n",
    "print(indiavix_df)"
   ]
  },
  {
   "cell_type": "code",
   "execution_count": 33,
   "metadata": {
    "colab": {
     "base_uri": "https://localhost:8080/",
     "height": 617
    },
    "executionInfo": {
     "elapsed": 28,
     "status": "ok",
     "timestamp": 1702620035252,
     "user": {
      "displayName": "Shankar Narayanan G R",
      "userId": "06073656442154612321"
     },
     "user_tz": -330
    },
    "id": "SE5MdIGujgpH",
    "outputId": "f1e0aee7-2e3e-400d-d426-529418d68b27"
   },
   "outputs": [
    {
     "data": {
      "text/html": [
       "<div>\n",
       "<style scoped>\n",
       "    .dataframe tbody tr th:only-of-type {\n",
       "        vertical-align: middle;\n",
       "    }\n",
       "\n",
       "    .dataframe tbody tr th {\n",
       "        vertical-align: top;\n",
       "    }\n",
       "\n",
       "    .dataframe thead th {\n",
       "        text-align: right;\n",
       "    }\n",
       "</style>\n",
       "<table border=\"1\" class=\"dataframe\">\n",
       "  <thead>\n",
       "    <tr style=\"text-align: right;\">\n",
       "      <th></th>\n",
       "      <th>_id</th>\n",
       "      <th>EOD_TIMESTAMP</th>\n",
       "      <th>EOD_INDEX_NAME</th>\n",
       "      <th>EOD_OPEN_INDEX_VAL</th>\n",
       "      <th>EOD_CLOSE_INDEX_VAL</th>\n",
       "      <th>EOD_HIGH_INDEX_VAL</th>\n",
       "      <th>EOD_LOW_INDEX_VAL</th>\n",
       "      <th>EOD_PREV_CLOSE</th>\n",
       "      <th>TIMESTAMP</th>\n",
       "      <th>VIX_PTS_CHG</th>\n",
       "      <th>VIX_PERC_CHG</th>\n",
       "      <th>ALTERNATE_INDEX_NAME</th>\n",
       "      <th>createdAt</th>\n",
       "      <th>updatedAt</th>\n",
       "      <th>__v</th>\n",
       "    </tr>\n",
       "  </thead>\n",
       "  <tbody>\n",
       "    <tr>\n",
       "      <th>0</th>\n",
       "      <td>65687a6d7080cd39031f6bf9</td>\n",
       "      <td>30-NOV-2023</td>\n",
       "      <td>INDIA VIX</td>\n",
       "      <td>12.7075</td>\n",
       "      <td>12.6900</td>\n",
       "      <td>13.3525</td>\n",
       "      <td>11.7625</td>\n",
       "      <td>12.7075</td>\n",
       "      <td>2023-11-29T18:30:00.000Z</td>\n",
       "      <td>-0.0175</td>\n",
       "      <td>-0.137714</td>\n",
       "      <td>INDIA VIX</td>\n",
       "      <td>2023-11-30T12:05:01.977Z</td>\n",
       "      <td>2023-11-30T12:05:01.977Z</td>\n",
       "      <td>0</td>\n",
       "    </tr>\n",
       "    <tr>\n",
       "      <th>1</th>\n",
       "      <td>656728f2f8357ba7c82e2428</td>\n",
       "      <td>29-NOV-2023</td>\n",
       "      <td>INDIA VIX</td>\n",
       "      <td>12.1750</td>\n",
       "      <td>12.7075</td>\n",
       "      <td>14.4600</td>\n",
       "      <td>11.3325</td>\n",
       "      <td>12.1750</td>\n",
       "      <td>2023-11-28T18:30:00.000Z</td>\n",
       "      <td>0.5325</td>\n",
       "      <td>4.373717</td>\n",
       "      <td>INDIA VIX</td>\n",
       "      <td>2023-11-29T12:05:06.347Z</td>\n",
       "      <td>2023-11-29T12:05:06.347Z</td>\n",
       "      <td>0</td>\n",
       "    </tr>\n",
       "    <tr>\n",
       "      <th>2</th>\n",
       "      <td>6565d76d2463dd1e8d5bae88</td>\n",
       "      <td>28-NOV-2023</td>\n",
       "      <td>INDIA VIX</td>\n",
       "      <td>11.3300</td>\n",
       "      <td>12.1750</td>\n",
       "      <td>12.4925</td>\n",
       "      <td>11.0650</td>\n",
       "      <td>11.3300</td>\n",
       "      <td>2023-11-27T18:30:00.000Z</td>\n",
       "      <td>0.8450</td>\n",
       "      <td>7.458076</td>\n",
       "      <td>INDIA VIX</td>\n",
       "      <td>2023-11-28T12:05:01.684Z</td>\n",
       "      <td>2023-11-28T12:05:01.684Z</td>\n",
       "      <td>0</td>\n",
       "    </tr>\n",
       "    <tr>\n",
       "      <th>3</th>\n",
       "      <td>6560916f326136637ff5ec84</td>\n",
       "      <td>24-NOV-2023</td>\n",
       "      <td>INDIA VIX</td>\n",
       "      <td>11.3150</td>\n",
       "      <td>11.3300</td>\n",
       "      <td>11.4650</td>\n",
       "      <td>8.6775</td>\n",
       "      <td>11.3150</td>\n",
       "      <td>2023-11-23T18:30:00.000Z</td>\n",
       "      <td>0.0150</td>\n",
       "      <td>0.132567</td>\n",
       "      <td>INDIA VIX</td>\n",
       "      <td>2023-11-24T12:05:03.629Z</td>\n",
       "      <td>2023-11-24T12:05:03.629Z</td>\n",
       "      <td>0</td>\n",
       "    </tr>\n",
       "    <tr>\n",
       "      <th>4</th>\n",
       "      <td>655f3ff0dddd587f80128e35</td>\n",
       "      <td>23-NOV-2023</td>\n",
       "      <td>INDIA VIX</td>\n",
       "      <td>11.8650</td>\n",
       "      <td>11.3150</td>\n",
       "      <td>12.1400</td>\n",
       "      <td>10.9750</td>\n",
       "      <td>11.8650</td>\n",
       "      <td>2023-11-22T18:30:00.000Z</td>\n",
       "      <td>-0.5500</td>\n",
       "      <td>-4.635483</td>\n",
       "      <td>INDIA VIX</td>\n",
       "      <td>2023-11-23T12:05:04.311Z</td>\n",
       "      <td>2023-11-23T12:05:04.311Z</td>\n",
       "      <td>0</td>\n",
       "    </tr>\n",
       "    <tr>\n",
       "      <th>...</th>\n",
       "      <td>...</td>\n",
       "      <td>...</td>\n",
       "      <td>...</td>\n",
       "      <td>...</td>\n",
       "      <td>...</td>\n",
       "      <td>...</td>\n",
       "      <td>...</td>\n",
       "      <td>...</td>\n",
       "      <td>...</td>\n",
       "      <td>...</td>\n",
       "      <td>...</td>\n",
       "      <td>...</td>\n",
       "      <td>...</td>\n",
       "      <td>...</td>\n",
       "      <td>...</td>\n",
       "    </tr>\n",
       "    <tr>\n",
       "      <th>2763</th>\n",
       "      <td>64996b580715db000745551f</td>\n",
       "      <td>07-JAN-2013</td>\n",
       "      <td>INDIA VIX</td>\n",
       "      <td>13.3700</td>\n",
       "      <td>13.9200</td>\n",
       "      <td>14.0400</td>\n",
       "      <td>13.3700</td>\n",
       "      <td>13.3700</td>\n",
       "      <td>2013-01-06T18:30:00.000Z</td>\n",
       "      <td>0.5500</td>\n",
       "      <td>4.113687</td>\n",
       "      <td>INDIA VIX</td>\n",
       "      <td>2023-06-26T10:41:28.828Z</td>\n",
       "      <td>2023-06-26T10:41:28.828Z</td>\n",
       "      <td>0</td>\n",
       "    </tr>\n",
       "    <tr>\n",
       "      <th>2764</th>\n",
       "      <td>64996b4e7f346a00085d3b23</td>\n",
       "      <td>04-JAN-2013</td>\n",
       "      <td>INDIA VIX</td>\n",
       "      <td>13.4700</td>\n",
       "      <td>13.3700</td>\n",
       "      <td>13.6300</td>\n",
       "      <td>13.2800</td>\n",
       "      <td>13.4700</td>\n",
       "      <td>2013-01-03T18:30:00.000Z</td>\n",
       "      <td>-0.1000</td>\n",
       "      <td>-0.742390</td>\n",
       "      <td>INDIA VIX</td>\n",
       "      <td>2023-06-26T10:41:18.797Z</td>\n",
       "      <td>2023-06-26T10:41:18.797Z</td>\n",
       "      <td>0</td>\n",
       "    </tr>\n",
       "    <tr>\n",
       "      <th>2765</th>\n",
       "      <td>64996b44c504a400073793d5</td>\n",
       "      <td>03-JAN-2013</td>\n",
       "      <td>INDIA VIX</td>\n",
       "      <td>13.7100</td>\n",
       "      <td>13.4700</td>\n",
       "      <td>13.9400</td>\n",
       "      <td>13.2200</td>\n",
       "      <td>13.7100</td>\n",
       "      <td>2013-01-02T18:30:00.000Z</td>\n",
       "      <td>-0.2400</td>\n",
       "      <td>-1.750547</td>\n",
       "      <td>INDIA VIX</td>\n",
       "      <td>2023-06-26T10:41:08.746Z</td>\n",
       "      <td>2023-06-26T10:41:08.746Z</td>\n",
       "      <td>0</td>\n",
       "    </tr>\n",
       "    <tr>\n",
       "      <th>2766</th>\n",
       "      <td>64996b3a583df60007d9b8bc</td>\n",
       "      <td>02-JAN-2013</td>\n",
       "      <td>INDIA VIX</td>\n",
       "      <td>13.6900</td>\n",
       "      <td>13.7100</td>\n",
       "      <td>13.9100</td>\n",
       "      <td>12.9900</td>\n",
       "      <td>13.6900</td>\n",
       "      <td>2013-01-01T18:30:00.000Z</td>\n",
       "      <td>0.0200</td>\n",
       "      <td>0.146092</td>\n",
       "      <td>INDIA VIX</td>\n",
       "      <td>2023-06-26T10:40:58.695Z</td>\n",
       "      <td>2023-06-26T10:40:58.695Z</td>\n",
       "      <td>0</td>\n",
       "    </tr>\n",
       "    <tr>\n",
       "      <th>2767</th>\n",
       "      <td>64996b303c4faf0007f069a4</td>\n",
       "      <td>01-JAN-2013</td>\n",
       "      <td>INDIA VIX</td>\n",
       "      <td>14.9500</td>\n",
       "      <td>13.6900</td>\n",
       "      <td>14.9500</td>\n",
       "      <td>13.6400</td>\n",
       "      <td>14.9500</td>\n",
       "      <td>2012-12-31T18:30:00.000Z</td>\n",
       "      <td>-1.2600</td>\n",
       "      <td>-8.428094</td>\n",
       "      <td>INDIA VIX</td>\n",
       "      <td>2023-06-26T10:40:48.650Z</td>\n",
       "      <td>2023-06-26T10:40:48.650Z</td>\n",
       "      <td>0</td>\n",
       "    </tr>\n",
       "  </tbody>\n",
       "</table>\n",
       "<p>2768 rows × 15 columns</p>\n",
       "</div>"
      ],
      "text/plain": [
       "                           _id EOD_TIMESTAMP EOD_INDEX_NAME  \\\n",
       "0     65687a6d7080cd39031f6bf9   30-NOV-2023      INDIA VIX   \n",
       "1     656728f2f8357ba7c82e2428   29-NOV-2023      INDIA VIX   \n",
       "2     6565d76d2463dd1e8d5bae88   28-NOV-2023      INDIA VIX   \n",
       "3     6560916f326136637ff5ec84   24-NOV-2023      INDIA VIX   \n",
       "4     655f3ff0dddd587f80128e35   23-NOV-2023      INDIA VIX   \n",
       "...                        ...           ...            ...   \n",
       "2763  64996b580715db000745551f   07-JAN-2013      INDIA VIX   \n",
       "2764  64996b4e7f346a00085d3b23   04-JAN-2013      INDIA VIX   \n",
       "2765  64996b44c504a400073793d5   03-JAN-2013      INDIA VIX   \n",
       "2766  64996b3a583df60007d9b8bc   02-JAN-2013      INDIA VIX   \n",
       "2767  64996b303c4faf0007f069a4   01-JAN-2013      INDIA VIX   \n",
       "\n",
       "      EOD_OPEN_INDEX_VAL  EOD_CLOSE_INDEX_VAL  EOD_HIGH_INDEX_VAL  \\\n",
       "0                12.7075              12.6900             13.3525   \n",
       "1                12.1750              12.7075             14.4600   \n",
       "2                11.3300              12.1750             12.4925   \n",
       "3                11.3150              11.3300             11.4650   \n",
       "4                11.8650              11.3150             12.1400   \n",
       "...                  ...                  ...                 ...   \n",
       "2763             13.3700              13.9200             14.0400   \n",
       "2764             13.4700              13.3700             13.6300   \n",
       "2765             13.7100              13.4700             13.9400   \n",
       "2766             13.6900              13.7100             13.9100   \n",
       "2767             14.9500              13.6900             14.9500   \n",
       "\n",
       "      EOD_LOW_INDEX_VAL  EOD_PREV_CLOSE                 TIMESTAMP  \\\n",
       "0               11.7625         12.7075  2023-11-29T18:30:00.000Z   \n",
       "1               11.3325         12.1750  2023-11-28T18:30:00.000Z   \n",
       "2               11.0650         11.3300  2023-11-27T18:30:00.000Z   \n",
       "3                8.6775         11.3150  2023-11-23T18:30:00.000Z   \n",
       "4               10.9750         11.8650  2023-11-22T18:30:00.000Z   \n",
       "...                 ...             ...                       ...   \n",
       "2763            13.3700         13.3700  2013-01-06T18:30:00.000Z   \n",
       "2764            13.2800         13.4700  2013-01-03T18:30:00.000Z   \n",
       "2765            13.2200         13.7100  2013-01-02T18:30:00.000Z   \n",
       "2766            12.9900         13.6900  2013-01-01T18:30:00.000Z   \n",
       "2767            13.6400         14.9500  2012-12-31T18:30:00.000Z   \n",
       "\n",
       "      VIX_PTS_CHG  VIX_PERC_CHG ALTERNATE_INDEX_NAME  \\\n",
       "0         -0.0175     -0.137714            INDIA VIX   \n",
       "1          0.5325      4.373717            INDIA VIX   \n",
       "2          0.8450      7.458076            INDIA VIX   \n",
       "3          0.0150      0.132567            INDIA VIX   \n",
       "4         -0.5500     -4.635483            INDIA VIX   \n",
       "...           ...           ...                  ...   \n",
       "2763       0.5500      4.113687            INDIA VIX   \n",
       "2764      -0.1000     -0.742390            INDIA VIX   \n",
       "2765      -0.2400     -1.750547            INDIA VIX   \n",
       "2766       0.0200      0.146092            INDIA VIX   \n",
       "2767      -1.2600     -8.428094            INDIA VIX   \n",
       "\n",
       "                     createdAt                 updatedAt  __v  \n",
       "0     2023-11-30T12:05:01.977Z  2023-11-30T12:05:01.977Z    0  \n",
       "1     2023-11-29T12:05:06.347Z  2023-11-29T12:05:06.347Z    0  \n",
       "2     2023-11-28T12:05:01.684Z  2023-11-28T12:05:01.684Z    0  \n",
       "3     2023-11-24T12:05:03.629Z  2023-11-24T12:05:03.629Z    0  \n",
       "4     2023-11-23T12:05:04.311Z  2023-11-23T12:05:04.311Z    0  \n",
       "...                        ...                       ...  ...  \n",
       "2763  2023-06-26T10:41:28.828Z  2023-06-26T10:41:28.828Z    0  \n",
       "2764  2023-06-26T10:41:18.797Z  2023-06-26T10:41:18.797Z    0  \n",
       "2765  2023-06-26T10:41:08.746Z  2023-06-26T10:41:08.746Z    0  \n",
       "2766  2023-06-26T10:40:58.695Z  2023-06-26T10:40:58.695Z    0  \n",
       "2767  2023-06-26T10:40:48.650Z  2023-06-26T10:40:48.650Z    0  \n",
       "\n",
       "[2768 rows x 15 columns]"
      ]
     },
     "execution_count": 33,
     "metadata": {},
     "output_type": "execute_result"
    }
   ],
   "source": [
    "indiavix_df"
   ]
  },
  {
   "cell_type": "code",
   "execution_count": 34,
   "metadata": {
    "executionInfo": {
     "elapsed": 20,
     "status": "ok",
     "timestamp": 1702620035252,
     "user": {
      "displayName": "Shankar Narayanan G R",
      "userId": "06073656442154612321"
     },
     "user_tz": -330
    },
    "id": "UzMotR-pjgpI",
    "tags": []
   },
   "outputs": [],
   "source": [
    "# # Define your path\n",
    "# file_path = \"/home/shankar/1MyProjects/test_poetry_project/data/raw/indiavix_historic.csv\"\n",
    "\n",
    "# # Save the DataFrame to the specified path\n",
    "# indiavix_df.to_csv(file_path, index=False)"
   ]
  },
  {
   "cell_type": "markdown",
   "metadata": {
    "id": "ctA5UMsAjgpJ"
   },
   "source": [
    "# Data Cleansing"
   ]
  },
  {
   "cell_type": "markdown",
   "metadata": {
    "id": "ZFvkgPPBjgpJ"
   },
   "source": [
    "## nifty_df cleaning"
   ]
  },
  {
   "cell_type": "code",
   "execution_count": 215,
   "metadata": {
    "colab": {
     "base_uri": "https://localhost:8080/"
    },
    "executionInfo": {
     "elapsed": 20,
     "status": "ok",
     "timestamp": 1702620035253,
     "user": {
      "displayName": "Shankar Narayanan G R",
      "userId": "06073656442154612321"
     },
     "user_tz": -330
    },
    "id": "25undz7IjgpJ",
    "outputId": "13f9b1ab-3b0f-470d-8879-84317a6f627d",
    "tags": []
   },
   "outputs": [
    {
     "name": "stdout",
     "output_type": "stream",
     "text": [
      "<class 'pandas.core.frame.DataFrame'>\n",
      "RangeIndex: 5948 entries, 0 to 5947\n",
      "Data columns (total 7 columns):\n",
      " #   Column          Non-Null Count  Dtype \n",
      "---  ------          --------------  ----- \n",
      " 0   Index Name      5948 non-null   object\n",
      " 1   INDEX_NAME      5948 non-null   object\n",
      " 2   HistoricalDate  5948 non-null   object\n",
      " 3   OPEN            5948 non-null   object\n",
      " 4   HIGH            5948 non-null   object\n",
      " 5   LOW             5948 non-null   object\n",
      " 6   CLOSE           5948 non-null   object\n",
      "dtypes: object(7)\n",
      "memory usage: 325.4+ KB\n"
     ]
    }
   ],
   "source": [
    "nifty_df.info()"
   ]
  },
  {
   "cell_type": "code",
   "execution_count": 216,
   "metadata": {
    "executionInfo": {
     "elapsed": 837,
     "status": "ok",
     "timestamp": 1702620530803,
     "user": {
      "displayName": "Shankar Narayanan G R",
      "userId": "06073656442154612321"
     },
     "user_tz": -330
    },
    "id": "gBATpIMWjgpL",
    "tags": []
   },
   "outputs": [],
   "source": [
    "# Delete the columns 'Index Name' and 'INDEX_NAME'\n",
    "nifty_df.drop(['Index Name', 'INDEX_NAME'], axis=1, inplace=True)"
   ]
  },
  {
   "cell_type": "code",
   "execution_count": 217,
   "metadata": {
    "tags": []
   },
   "outputs": [],
   "source": [
    "# Convert all columns to lowercase\n",
    "nifty_df.columns = map(str.lower, nifty_df.columns)"
   ]
  },
  {
   "cell_type": "code",
   "execution_count": 218,
   "metadata": {
    "tags": []
   },
   "outputs": [
    {
     "name": "stdout",
     "output_type": "stream",
     "text": [
      "<class 'pandas.core.frame.DataFrame'>\n",
      "RangeIndex: 5948 entries, 0 to 5947\n",
      "Data columns (total 5 columns):\n",
      " #   Column          Non-Null Count  Dtype         \n",
      "---  ------          --------------  -----         \n",
      " 0   historicaldate  5948 non-null   datetime64[ns]\n",
      " 1   open            5948 non-null   float64       \n",
      " 2   high            5948 non-null   float64       \n",
      " 3   low             5948 non-null   float64       \n",
      " 4   close           5948 non-null   float64       \n",
      "dtypes: datetime64[ns](1), float64(4)\n",
      "memory usage: 232.5 KB\n"
     ]
    }
   ],
   "source": [
    "# Convert historicaldate column to datetime\n",
    "nifty_df['historicaldate'] = pd.to_datetime(nifty_df['historicaldate'])\n",
    "\n",
    "# Convert the variables 'open', 'high', 'low', 'close' to float\n",
    "nifty_df['open'] = nifty_df['open'].astype(float)\n",
    "nifty_df['high'] = nifty_df['high'].astype(float)\n",
    "nifty_df['low'] = nifty_df['low'].astype(float)\n",
    "nifty_df['close'] = nifty_df['close'].astype(float)\n",
    "\n",
    "nifty_df.info()"
   ]
  },
  {
   "cell_type": "code",
   "execution_count": 219,
   "metadata": {
    "tags": []
   },
   "outputs": [],
   "source": [
    "# Sort the nifty_df by historicaldate column in ascending order and sort the index\n",
    "nifty_df.sort_values(by='historicaldate', ascending=True, inplace=True)\n",
    "nifty_df.reset_index(drop=True, inplace=True)"
   ]
  },
  {
   "cell_type": "code",
   "execution_count": 220,
   "metadata": {
    "tags": []
   },
   "outputs": [],
   "source": [
    "# Create a new variables called dayofweek such as Monday, Tuesday, etc. and numdayofweek\n",
    "nifty_df['dayofweek'] = nifty_df['historicaldate'].dt.day_name()\n",
    "nifty_df['numdayofweek'] = nifty_df['historicaldate'].dt.dayofweek"
   ]
  },
  {
   "cell_type": "code",
   "execution_count": 222,
   "metadata": {
    "tags": []
   },
   "outputs": [],
   "source": [
    "# Calculate unique week number with week ending on Thursday \n",
    "\n",
    "min_date = nifty_df['historicaldate'].min()\n",
    "nifty_df['weeknumber'] = ((nifty_df['historicaldate'] - min_date).dt.days // 7).astype(int)\n",
    "nifty_df['weeknumber'] += (nifty_df['historicaldate'].dt.dayofweek > 3)"
   ]
  },
  {
   "cell_type": "code",
   "execution_count": 184,
   "metadata": {
    "tags": []
   },
   "outputs": [],
   "source": [
    "# Create a new column 'expiryday' based on 'numdayofweek' and 'weeknumber'\n",
    "# nifty_df['expiryday'] = \n",
    "nifty_df['expiryday'] = nifty_df.apply(\n",
    "                            lambda row: (\n",
    "                                pd.to_datetime(\n",
    "                                    row['historicaldate']) + \\\n",
    "                                    pd.DateOffset(days=(day_map['Thursday'] - \\\n",
    "                                    row['numericdayofweek'] + 7) % 7)).strftime('%d-%m-%Y'), axis=1)"
   ]
  },
  {
   "cell_type": "code",
   "execution_count": 223,
   "metadata": {
    "tags": []
   },
   "outputs": [
    {
     "data": {
      "text/html": [
       "<div>\n",
       "<style scoped>\n",
       "    .dataframe tbody tr th:only-of-type {\n",
       "        vertical-align: middle;\n",
       "    }\n",
       "\n",
       "    .dataframe tbody tr th {\n",
       "        vertical-align: top;\n",
       "    }\n",
       "\n",
       "    .dataframe thead th {\n",
       "        text-align: right;\n",
       "    }\n",
       "</style>\n",
       "<table border=\"1\" class=\"dataframe\">\n",
       "  <thead>\n",
       "    <tr style=\"text-align: right;\">\n",
       "      <th></th>\n",
       "      <th>historicaldate</th>\n",
       "      <th>open</th>\n",
       "      <th>high</th>\n",
       "      <th>low</th>\n",
       "      <th>close</th>\n",
       "      <th>dayofweek</th>\n",
       "      <th>numdayofweek</th>\n",
       "      <th>weeknumber</th>\n",
       "    </tr>\n",
       "  </thead>\n",
       "  <tbody>\n",
       "    <tr>\n",
       "      <th>0</th>\n",
       "      <td>2000-01-03</td>\n",
       "      <td>1482.15</td>\n",
       "      <td>1592.90</td>\n",
       "      <td>1482.15</td>\n",
       "      <td>1592.2</td>\n",
       "      <td>Monday</td>\n",
       "      <td>0</td>\n",
       "      <td>0</td>\n",
       "    </tr>\n",
       "    <tr>\n",
       "      <th>1</th>\n",
       "      <td>2000-01-04</td>\n",
       "      <td>1594.40</td>\n",
       "      <td>1641.95</td>\n",
       "      <td>1594.40</td>\n",
       "      <td>1638.7</td>\n",
       "      <td>Tuesday</td>\n",
       "      <td>1</td>\n",
       "      <td>0</td>\n",
       "    </tr>\n",
       "    <tr>\n",
       "      <th>2</th>\n",
       "      <td>2000-01-05</td>\n",
       "      <td>1634.55</td>\n",
       "      <td>1635.50</td>\n",
       "      <td>1555.05</td>\n",
       "      <td>1595.8</td>\n",
       "      <td>Wednesday</td>\n",
       "      <td>2</td>\n",
       "      <td>0</td>\n",
       "    </tr>\n",
       "    <tr>\n",
       "      <th>3</th>\n",
       "      <td>2000-01-06</td>\n",
       "      <td>1595.80</td>\n",
       "      <td>1639.00</td>\n",
       "      <td>1595.80</td>\n",
       "      <td>1617.6</td>\n",
       "      <td>Thursday</td>\n",
       "      <td>3</td>\n",
       "      <td>0</td>\n",
       "    </tr>\n",
       "    <tr>\n",
       "      <th>4</th>\n",
       "      <td>2000-01-07</td>\n",
       "      <td>1616.60</td>\n",
       "      <td>1628.25</td>\n",
       "      <td>1597.20</td>\n",
       "      <td>1613.3</td>\n",
       "      <td>Friday</td>\n",
       "      <td>4</td>\n",
       "      <td>1</td>\n",
       "    </tr>\n",
       "    <tr>\n",
       "      <th>5</th>\n",
       "      <td>2000-01-10</td>\n",
       "      <td>1615.65</td>\n",
       "      <td>1662.10</td>\n",
       "      <td>1614.95</td>\n",
       "      <td>1632.9</td>\n",
       "      <td>Monday</td>\n",
       "      <td>0</td>\n",
       "      <td>1</td>\n",
       "    </tr>\n",
       "    <tr>\n",
       "      <th>6</th>\n",
       "      <td>2000-01-11</td>\n",
       "      <td>1633.25</td>\n",
       "      <td>1639.90</td>\n",
       "      <td>1548.25</td>\n",
       "      <td>1572.5</td>\n",
       "      <td>Tuesday</td>\n",
       "      <td>1</td>\n",
       "      <td>1</td>\n",
       "    </tr>\n",
       "    <tr>\n",
       "      <th>7</th>\n",
       "      <td>2000-01-12</td>\n",
       "      <td>1572.30</td>\n",
       "      <td>1631.55</td>\n",
       "      <td>1571.70</td>\n",
       "      <td>1624.8</td>\n",
       "      <td>Wednesday</td>\n",
       "      <td>2</td>\n",
       "      <td>1</td>\n",
       "    </tr>\n",
       "    <tr>\n",
       "      <th>8</th>\n",
       "      <td>2000-01-13</td>\n",
       "      <td>1627.85</td>\n",
       "      <td>1671.15</td>\n",
       "      <td>1613.65</td>\n",
       "      <td>1621.4</td>\n",
       "      <td>Thursday</td>\n",
       "      <td>3</td>\n",
       "      <td>1</td>\n",
       "    </tr>\n",
       "    <tr>\n",
       "      <th>9</th>\n",
       "      <td>2000-01-14</td>\n",
       "      <td>1622.15</td>\n",
       "      <td>1627.40</td>\n",
       "      <td>1591.40</td>\n",
       "      <td>1622.7</td>\n",
       "      <td>Friday</td>\n",
       "      <td>4</td>\n",
       "      <td>2</td>\n",
       "    </tr>\n",
       "    <tr>\n",
       "      <th>10</th>\n",
       "      <td>2000-01-17</td>\n",
       "      <td>1623.50</td>\n",
       "      <td>1668.45</td>\n",
       "      <td>1604.65</td>\n",
       "      <td>1611.6</td>\n",
       "      <td>Monday</td>\n",
       "      <td>0</td>\n",
       "      <td>2</td>\n",
       "    </tr>\n",
       "    <tr>\n",
       "      <th>11</th>\n",
       "      <td>2000-01-18</td>\n",
       "      <td>1611.65</td>\n",
       "      <td>1615.15</td>\n",
       "      <td>1587.85</td>\n",
       "      <td>1606.7</td>\n",
       "      <td>Tuesday</td>\n",
       "      <td>1</td>\n",
       "      <td>2</td>\n",
       "    </tr>\n",
       "    <tr>\n",
       "      <th>12</th>\n",
       "      <td>2000-01-19</td>\n",
       "      <td>1610.05</td>\n",
       "      <td>1644.45</td>\n",
       "      <td>1608.85</td>\n",
       "      <td>1634.8</td>\n",
       "      <td>Wednesday</td>\n",
       "      <td>2</td>\n",
       "      <td>2</td>\n",
       "    </tr>\n",
       "    <tr>\n",
       "      <th>13</th>\n",
       "      <td>2000-01-20</td>\n",
       "      <td>1634.65</td>\n",
       "      <td>1644.40</td>\n",
       "      <td>1596.65</td>\n",
       "      <td>1601.1</td>\n",
       "      <td>Thursday</td>\n",
       "      <td>3</td>\n",
       "      <td>2</td>\n",
       "    </tr>\n",
       "    <tr>\n",
       "      <th>14</th>\n",
       "      <td>2000-01-21</td>\n",
       "      <td>1601.25</td>\n",
       "      <td>1626.50</td>\n",
       "      <td>1593.20</td>\n",
       "      <td>1620.6</td>\n",
       "      <td>Friday</td>\n",
       "      <td>4</td>\n",
       "      <td>3</td>\n",
       "    </tr>\n",
       "    <tr>\n",
       "      <th>15</th>\n",
       "      <td>2000-01-24</td>\n",
       "      <td>1623.05</td>\n",
       "      <td>1645.00</td>\n",
       "      <td>1608.30</td>\n",
       "      <td>1613.6</td>\n",
       "      <td>Monday</td>\n",
       "      <td>0</td>\n",
       "      <td>3</td>\n",
       "    </tr>\n",
       "    <tr>\n",
       "      <th>16</th>\n",
       "      <td>2000-01-25</td>\n",
       "      <td>1612.95</td>\n",
       "      <td>1613.65</td>\n",
       "      <td>1579.55</td>\n",
       "      <td>1586.4</td>\n",
       "      <td>Tuesday</td>\n",
       "      <td>1</td>\n",
       "      <td>3</td>\n",
       "    </tr>\n",
       "    <tr>\n",
       "      <th>17</th>\n",
       "      <td>2000-01-27</td>\n",
       "      <td>1600.50</td>\n",
       "      <td>1633.55</td>\n",
       "      <td>1600.05</td>\n",
       "      <td>1603.9</td>\n",
       "      <td>Thursday</td>\n",
       "      <td>3</td>\n",
       "      <td>3</td>\n",
       "    </tr>\n",
       "    <tr>\n",
       "      <th>18</th>\n",
       "      <td>2000-01-28</td>\n",
       "      <td>1603.65</td>\n",
       "      <td>1610.90</td>\n",
       "      <td>1592.70</td>\n",
       "      <td>1599.1</td>\n",
       "      <td>Friday</td>\n",
       "      <td>4</td>\n",
       "      <td>4</td>\n",
       "    </tr>\n",
       "    <tr>\n",
       "      <th>19</th>\n",
       "      <td>2000-01-31</td>\n",
       "      <td>1598.35</td>\n",
       "      <td>1598.35</td>\n",
       "      <td>1538.70</td>\n",
       "      <td>1546.2</td>\n",
       "      <td>Monday</td>\n",
       "      <td>0</td>\n",
       "      <td>4</td>\n",
       "    </tr>\n",
       "    <tr>\n",
       "      <th>20</th>\n",
       "      <td>2000-02-01</td>\n",
       "      <td>1546.20</td>\n",
       "      <td>1554.15</td>\n",
       "      <td>1521.40</td>\n",
       "      <td>1549.5</td>\n",
       "      <td>Tuesday</td>\n",
       "      <td>1</td>\n",
       "      <td>4</td>\n",
       "    </tr>\n",
       "    <tr>\n",
       "      <th>21</th>\n",
       "      <td>2000-02-02</td>\n",
       "      <td>1554.20</td>\n",
       "      <td>1605.90</td>\n",
       "      <td>1554.20</td>\n",
       "      <td>1588.0</td>\n",
       "      <td>Wednesday</td>\n",
       "      <td>2</td>\n",
       "      <td>4</td>\n",
       "    </tr>\n",
       "    <tr>\n",
       "      <th>22</th>\n",
       "      <td>2000-02-03</td>\n",
       "      <td>1591.25</td>\n",
       "      <td>1616.70</td>\n",
       "      <td>1591.25</td>\n",
       "      <td>1597.9</td>\n",
       "      <td>Thursday</td>\n",
       "      <td>3</td>\n",
       "      <td>4</td>\n",
       "    </tr>\n",
       "    <tr>\n",
       "      <th>23</th>\n",
       "      <td>2000-02-04</td>\n",
       "      <td>1598.50</td>\n",
       "      <td>1621.35</td>\n",
       "      <td>1596.45</td>\n",
       "      <td>1599.7</td>\n",
       "      <td>Friday</td>\n",
       "      <td>4</td>\n",
       "      <td>5</td>\n",
       "    </tr>\n",
       "    <tr>\n",
       "      <th>24</th>\n",
       "      <td>2000-02-07</td>\n",
       "      <td>1599.80</td>\n",
       "      <td>1645.90</td>\n",
       "      <td>1599.80</td>\n",
       "      <td>1636.6</td>\n",
       "      <td>Monday</td>\n",
       "      <td>0</td>\n",
       "      <td>5</td>\n",
       "    </tr>\n",
       "    <tr>\n",
       "      <th>25</th>\n",
       "      <td>2000-02-08</td>\n",
       "      <td>1636.60</td>\n",
       "      <td>1676.10</td>\n",
       "      <td>1636.60</td>\n",
       "      <td>1662.7</td>\n",
       "      <td>Tuesday</td>\n",
       "      <td>1</td>\n",
       "      <td>5</td>\n",
       "    </tr>\n",
       "    <tr>\n",
       "      <th>26</th>\n",
       "      <td>2000-02-09</td>\n",
       "      <td>1666.95</td>\n",
       "      <td>1731.65</td>\n",
       "      <td>1666.70</td>\n",
       "      <td>1689.6</td>\n",
       "      <td>Wednesday</td>\n",
       "      <td>2</td>\n",
       "      <td>5</td>\n",
       "    </tr>\n",
       "    <tr>\n",
       "      <th>27</th>\n",
       "      <td>2000-02-10</td>\n",
       "      <td>1692.10</td>\n",
       "      <td>1713.70</td>\n",
       "      <td>1692.10</td>\n",
       "      <td>1711.2</td>\n",
       "      <td>Thursday</td>\n",
       "      <td>3</td>\n",
       "      <td>5</td>\n",
       "    </tr>\n",
       "    <tr>\n",
       "      <th>28</th>\n",
       "      <td>2000-02-11</td>\n",
       "      <td>1712.85</td>\n",
       "      <td>1771.65</td>\n",
       "      <td>1712.85</td>\n",
       "      <td>1756.0</td>\n",
       "      <td>Friday</td>\n",
       "      <td>4</td>\n",
       "      <td>6</td>\n",
       "    </tr>\n",
       "    <tr>\n",
       "      <th>29</th>\n",
       "      <td>2000-02-14</td>\n",
       "      <td>1777.75</td>\n",
       "      <td>1795.45</td>\n",
       "      <td>1738.75</td>\n",
       "      <td>1744.5</td>\n",
       "      <td>Monday</td>\n",
       "      <td>0</td>\n",
       "      <td>6</td>\n",
       "    </tr>\n",
       "    <tr>\n",
       "      <th>30</th>\n",
       "      <td>2000-02-15</td>\n",
       "      <td>1744.50</td>\n",
       "      <td>1744.50</td>\n",
       "      <td>1694.45</td>\n",
       "      <td>1702.5</td>\n",
       "      <td>Tuesday</td>\n",
       "      <td>1</td>\n",
       "      <td>6</td>\n",
       "    </tr>\n",
       "    <tr>\n",
       "      <th>31</th>\n",
       "      <td>2000-02-16</td>\n",
       "      <td>1704.85</td>\n",
       "      <td>1742.80</td>\n",
       "      <td>1704.15</td>\n",
       "      <td>1711.1</td>\n",
       "      <td>Wednesday</td>\n",
       "      <td>2</td>\n",
       "      <td>6</td>\n",
       "    </tr>\n",
       "    <tr>\n",
       "      <th>32</th>\n",
       "      <td>2000-02-17</td>\n",
       "      <td>1710.05</td>\n",
       "      <td>1753.10</td>\n",
       "      <td>1710.05</td>\n",
       "      <td>1742.1</td>\n",
       "      <td>Thursday</td>\n",
       "      <td>3</td>\n",
       "      <td>6</td>\n",
       "    </tr>\n",
       "    <tr>\n",
       "      <th>33</th>\n",
       "      <td>2000-02-18</td>\n",
       "      <td>1742.30</td>\n",
       "      <td>1764.15</td>\n",
       "      <td>1713.45</td>\n",
       "      <td>1717.8</td>\n",
       "      <td>Friday</td>\n",
       "      <td>4</td>\n",
       "      <td>7</td>\n",
       "    </tr>\n",
       "    <tr>\n",
       "      <th>34</th>\n",
       "      <td>2000-02-21</td>\n",
       "      <td>1719.55</td>\n",
       "      <td>1767.80</td>\n",
       "      <td>1719.55</td>\n",
       "      <td>1753.5</td>\n",
       "      <td>Monday</td>\n",
       "      <td>0</td>\n",
       "      <td>7</td>\n",
       "    </tr>\n",
       "    <tr>\n",
       "      <th>35</th>\n",
       "      <td>2000-02-22</td>\n",
       "      <td>1754.20</td>\n",
       "      <td>1781.05</td>\n",
       "      <td>1733.55</td>\n",
       "      <td>1739.0</td>\n",
       "      <td>Tuesday</td>\n",
       "      <td>1</td>\n",
       "      <td>7</td>\n",
       "    </tr>\n",
       "    <tr>\n",
       "      <th>36</th>\n",
       "      <td>2000-02-23</td>\n",
       "      <td>1745.20</td>\n",
       "      <td>1818.15</td>\n",
       "      <td>1689.20</td>\n",
       "      <td>1696.4</td>\n",
       "      <td>Wednesday</td>\n",
       "      <td>2</td>\n",
       "      <td>7</td>\n",
       "    </tr>\n",
       "    <tr>\n",
       "      <th>37</th>\n",
       "      <td>2000-02-24</td>\n",
       "      <td>1696.40</td>\n",
       "      <td>1751.60</td>\n",
       "      <td>1693.10</td>\n",
       "      <td>1732.0</td>\n",
       "      <td>Thursday</td>\n",
       "      <td>3</td>\n",
       "      <td>7</td>\n",
       "    </tr>\n",
       "    <tr>\n",
       "      <th>38</th>\n",
       "      <td>2000-02-25</td>\n",
       "      <td>1734.05</td>\n",
       "      <td>1757.05</td>\n",
       "      <td>1699.25</td>\n",
       "      <td>1710.4</td>\n",
       "      <td>Friday</td>\n",
       "      <td>4</td>\n",
       "      <td>8</td>\n",
       "    </tr>\n",
       "    <tr>\n",
       "      <th>39</th>\n",
       "      <td>2000-02-28</td>\n",
       "      <td>1711.15</td>\n",
       "      <td>1726.65</td>\n",
       "      <td>1670.75</td>\n",
       "      <td>1722.5</td>\n",
       "      <td>Monday</td>\n",
       "      <td>0</td>\n",
       "      <td>8</td>\n",
       "    </tr>\n",
       "    <tr>\n",
       "      <th>40</th>\n",
       "      <td>2000-02-29</td>\n",
       "      <td>1722.85</td>\n",
       "      <td>1783.30</td>\n",
       "      <td>1626.35</td>\n",
       "      <td>1654.8</td>\n",
       "      <td>Tuesday</td>\n",
       "      <td>1</td>\n",
       "      <td>8</td>\n",
       "    </tr>\n",
       "    <tr>\n",
       "      <th>41</th>\n",
       "      <td>2000-03-01</td>\n",
       "      <td>1661.50</td>\n",
       "      <td>1727.90</td>\n",
       "      <td>1630.00</td>\n",
       "      <td>1712.7</td>\n",
       "      <td>Wednesday</td>\n",
       "      <td>2</td>\n",
       "      <td>8</td>\n",
       "    </tr>\n",
       "    <tr>\n",
       "      <th>42</th>\n",
       "      <td>2000-03-02</td>\n",
       "      <td>1713.65</td>\n",
       "      <td>1773.85</td>\n",
       "      <td>1690.05</td>\n",
       "      <td>1696.5</td>\n",
       "      <td>Thursday</td>\n",
       "      <td>3</td>\n",
       "      <td>8</td>\n",
       "    </tr>\n",
       "    <tr>\n",
       "      <th>43</th>\n",
       "      <td>2000-03-03</td>\n",
       "      <td>1696.45</td>\n",
       "      <td>1719.15</td>\n",
       "      <td>1644.40</td>\n",
       "      <td>1656.0</td>\n",
       "      <td>Friday</td>\n",
       "      <td>4</td>\n",
       "      <td>9</td>\n",
       "    </tr>\n",
       "    <tr>\n",
       "      <th>44</th>\n",
       "      <td>2000-03-06</td>\n",
       "      <td>1656.00</td>\n",
       "      <td>1721.00</td>\n",
       "      <td>1656.00</td>\n",
       "      <td>1688.5</td>\n",
       "      <td>Monday</td>\n",
       "      <td>0</td>\n",
       "      <td>9</td>\n",
       "    </tr>\n",
       "    <tr>\n",
       "      <th>45</th>\n",
       "      <td>2000-03-07</td>\n",
       "      <td>1711.85</td>\n",
       "      <td>1730.85</td>\n",
       "      <td>1684.90</td>\n",
       "      <td>1702.7</td>\n",
       "      <td>Tuesday</td>\n",
       "      <td>1</td>\n",
       "      <td>9</td>\n",
       "    </tr>\n",
       "    <tr>\n",
       "      <th>46</th>\n",
       "      <td>2000-03-08</td>\n",
       "      <td>1717.75</td>\n",
       "      <td>1765.25</td>\n",
       "      <td>1654.45</td>\n",
       "      <td>1666.3</td>\n",
       "      <td>Wednesday</td>\n",
       "      <td>2</td>\n",
       "      <td>9</td>\n",
       "    </tr>\n",
       "    <tr>\n",
       "      <th>47</th>\n",
       "      <td>2000-03-09</td>\n",
       "      <td>1667.45</td>\n",
       "      <td>1692.25</td>\n",
       "      <td>1595.45</td>\n",
       "      <td>1646.2</td>\n",
       "      <td>Thursday</td>\n",
       "      <td>3</td>\n",
       "      <td>9</td>\n",
       "    </tr>\n",
       "    <tr>\n",
       "      <th>48</th>\n",
       "      <td>2000-03-10</td>\n",
       "      <td>1647.85</td>\n",
       "      <td>1680.45</td>\n",
       "      <td>1588.20</td>\n",
       "      <td>1602.7</td>\n",
       "      <td>Friday</td>\n",
       "      <td>4</td>\n",
       "      <td>10</td>\n",
       "    </tr>\n",
       "    <tr>\n",
       "      <th>49</th>\n",
       "      <td>2000-03-13</td>\n",
       "      <td>1601.40</td>\n",
       "      <td>1645.00</td>\n",
       "      <td>1553.45</td>\n",
       "      <td>1560.7</td>\n",
       "      <td>Monday</td>\n",
       "      <td>0</td>\n",
       "      <td>10</td>\n",
       "    </tr>\n",
       "    <tr>\n",
       "      <th>50</th>\n",
       "      <td>2000-03-14</td>\n",
       "      <td>1561.55</td>\n",
       "      <td>1571.30</td>\n",
       "      <td>1503.20</td>\n",
       "      <td>1567.0</td>\n",
       "      <td>Tuesday</td>\n",
       "      <td>1</td>\n",
       "      <td>10</td>\n",
       "    </tr>\n",
       "    <tr>\n",
       "      <th>51</th>\n",
       "      <td>2000-03-15</td>\n",
       "      <td>1546.80</td>\n",
       "      <td>1630.95</td>\n",
       "      <td>1538.70</td>\n",
       "      <td>1620.1</td>\n",
       "      <td>Wednesday</td>\n",
       "      <td>2</td>\n",
       "      <td>10</td>\n",
       "    </tr>\n",
       "    <tr>\n",
       "      <th>52</th>\n",
       "      <td>2000-03-16</td>\n",
       "      <td>1620.40</td>\n",
       "      <td>1621.20</td>\n",
       "      <td>1554.30</td>\n",
       "      <td>1562.2</td>\n",
       "      <td>Thursday</td>\n",
       "      <td>3</td>\n",
       "      <td>10</td>\n",
       "    </tr>\n",
       "    <tr>\n",
       "      <th>53</th>\n",
       "      <td>2000-03-21</td>\n",
       "      <td>1563.30</td>\n",
       "      <td>1585.25</td>\n",
       "      <td>1542.65</td>\n",
       "      <td>1556.6</td>\n",
       "      <td>Tuesday</td>\n",
       "      <td>1</td>\n",
       "      <td>11</td>\n",
       "    </tr>\n",
       "    <tr>\n",
       "      <th>54</th>\n",
       "      <td>2000-03-22</td>\n",
       "      <td>1551.05</td>\n",
       "      <td>1604.00</td>\n",
       "      <td>1551.05</td>\n",
       "      <td>1589.6</td>\n",
       "      <td>Wednesday</td>\n",
       "      <td>2</td>\n",
       "      <td>11</td>\n",
       "    </tr>\n",
       "    <tr>\n",
       "      <th>55</th>\n",
       "      <td>2000-03-23</td>\n",
       "      <td>1590.30</td>\n",
       "      <td>1629.20</td>\n",
       "      <td>1544.50</td>\n",
       "      <td>1553.4</td>\n",
       "      <td>Thursday</td>\n",
       "      <td>3</td>\n",
       "      <td>11</td>\n",
       "    </tr>\n",
       "    <tr>\n",
       "      <th>56</th>\n",
       "      <td>2000-03-24</td>\n",
       "      <td>1554.20</td>\n",
       "      <td>1579.40</td>\n",
       "      <td>1540.45</td>\n",
       "      <td>1569.5</td>\n",
       "      <td>Friday</td>\n",
       "      <td>4</td>\n",
       "      <td>12</td>\n",
       "    </tr>\n",
       "    <tr>\n",
       "      <th>57</th>\n",
       "      <td>2000-03-27</td>\n",
       "      <td>1570.45</td>\n",
       "      <td>1593.30</td>\n",
       "      <td>1555.75</td>\n",
       "      <td>1562.9</td>\n",
       "      <td>Monday</td>\n",
       "      <td>0</td>\n",
       "      <td>12</td>\n",
       "    </tr>\n",
       "    <tr>\n",
       "      <th>58</th>\n",
       "      <td>2000-03-28</td>\n",
       "      <td>1563.30</td>\n",
       "      <td>1575.85</td>\n",
       "      <td>1527.55</td>\n",
       "      <td>1568.6</td>\n",
       "      <td>Tuesday</td>\n",
       "      <td>1</td>\n",
       "      <td>12</td>\n",
       "    </tr>\n",
       "    <tr>\n",
       "      <th>59</th>\n",
       "      <td>2000-03-29</td>\n",
       "      <td>1569.30</td>\n",
       "      <td>1609.40</td>\n",
       "      <td>1553.40</td>\n",
       "      <td>1558.2</td>\n",
       "      <td>Wednesday</td>\n",
       "      <td>2</td>\n",
       "      <td>12</td>\n",
       "    </tr>\n",
       "  </tbody>\n",
       "</table>\n",
       "</div>"
      ],
      "text/plain": [
       "   historicaldate     open     high      low   close  dayofweek  numdayofweek  \\\n",
       "0      2000-01-03  1482.15  1592.90  1482.15  1592.2     Monday             0   \n",
       "1      2000-01-04  1594.40  1641.95  1594.40  1638.7    Tuesday             1   \n",
       "2      2000-01-05  1634.55  1635.50  1555.05  1595.8  Wednesday             2   \n",
       "3      2000-01-06  1595.80  1639.00  1595.80  1617.6   Thursday             3   \n",
       "4      2000-01-07  1616.60  1628.25  1597.20  1613.3     Friday             4   \n",
       "5      2000-01-10  1615.65  1662.10  1614.95  1632.9     Monday             0   \n",
       "6      2000-01-11  1633.25  1639.90  1548.25  1572.5    Tuesday             1   \n",
       "7      2000-01-12  1572.30  1631.55  1571.70  1624.8  Wednesday             2   \n",
       "8      2000-01-13  1627.85  1671.15  1613.65  1621.4   Thursday             3   \n",
       "9      2000-01-14  1622.15  1627.40  1591.40  1622.7     Friday             4   \n",
       "10     2000-01-17  1623.50  1668.45  1604.65  1611.6     Monday             0   \n",
       "11     2000-01-18  1611.65  1615.15  1587.85  1606.7    Tuesday             1   \n",
       "12     2000-01-19  1610.05  1644.45  1608.85  1634.8  Wednesday             2   \n",
       "13     2000-01-20  1634.65  1644.40  1596.65  1601.1   Thursday             3   \n",
       "14     2000-01-21  1601.25  1626.50  1593.20  1620.6     Friday             4   \n",
       "15     2000-01-24  1623.05  1645.00  1608.30  1613.6     Monday             0   \n",
       "16     2000-01-25  1612.95  1613.65  1579.55  1586.4    Tuesday             1   \n",
       "17     2000-01-27  1600.50  1633.55  1600.05  1603.9   Thursday             3   \n",
       "18     2000-01-28  1603.65  1610.90  1592.70  1599.1     Friday             4   \n",
       "19     2000-01-31  1598.35  1598.35  1538.70  1546.2     Monday             0   \n",
       "20     2000-02-01  1546.20  1554.15  1521.40  1549.5    Tuesday             1   \n",
       "21     2000-02-02  1554.20  1605.90  1554.20  1588.0  Wednesday             2   \n",
       "22     2000-02-03  1591.25  1616.70  1591.25  1597.9   Thursday             3   \n",
       "23     2000-02-04  1598.50  1621.35  1596.45  1599.7     Friday             4   \n",
       "24     2000-02-07  1599.80  1645.90  1599.80  1636.6     Monday             0   \n",
       "25     2000-02-08  1636.60  1676.10  1636.60  1662.7    Tuesday             1   \n",
       "26     2000-02-09  1666.95  1731.65  1666.70  1689.6  Wednesday             2   \n",
       "27     2000-02-10  1692.10  1713.70  1692.10  1711.2   Thursday             3   \n",
       "28     2000-02-11  1712.85  1771.65  1712.85  1756.0     Friday             4   \n",
       "29     2000-02-14  1777.75  1795.45  1738.75  1744.5     Monday             0   \n",
       "30     2000-02-15  1744.50  1744.50  1694.45  1702.5    Tuesday             1   \n",
       "31     2000-02-16  1704.85  1742.80  1704.15  1711.1  Wednesday             2   \n",
       "32     2000-02-17  1710.05  1753.10  1710.05  1742.1   Thursday             3   \n",
       "33     2000-02-18  1742.30  1764.15  1713.45  1717.8     Friday             4   \n",
       "34     2000-02-21  1719.55  1767.80  1719.55  1753.5     Monday             0   \n",
       "35     2000-02-22  1754.20  1781.05  1733.55  1739.0    Tuesday             1   \n",
       "36     2000-02-23  1745.20  1818.15  1689.20  1696.4  Wednesday             2   \n",
       "37     2000-02-24  1696.40  1751.60  1693.10  1732.0   Thursday             3   \n",
       "38     2000-02-25  1734.05  1757.05  1699.25  1710.4     Friday             4   \n",
       "39     2000-02-28  1711.15  1726.65  1670.75  1722.5     Monday             0   \n",
       "40     2000-02-29  1722.85  1783.30  1626.35  1654.8    Tuesday             1   \n",
       "41     2000-03-01  1661.50  1727.90  1630.00  1712.7  Wednesday             2   \n",
       "42     2000-03-02  1713.65  1773.85  1690.05  1696.5   Thursday             3   \n",
       "43     2000-03-03  1696.45  1719.15  1644.40  1656.0     Friday             4   \n",
       "44     2000-03-06  1656.00  1721.00  1656.00  1688.5     Monday             0   \n",
       "45     2000-03-07  1711.85  1730.85  1684.90  1702.7    Tuesday             1   \n",
       "46     2000-03-08  1717.75  1765.25  1654.45  1666.3  Wednesday             2   \n",
       "47     2000-03-09  1667.45  1692.25  1595.45  1646.2   Thursday             3   \n",
       "48     2000-03-10  1647.85  1680.45  1588.20  1602.7     Friday             4   \n",
       "49     2000-03-13  1601.40  1645.00  1553.45  1560.7     Monday             0   \n",
       "50     2000-03-14  1561.55  1571.30  1503.20  1567.0    Tuesday             1   \n",
       "51     2000-03-15  1546.80  1630.95  1538.70  1620.1  Wednesday             2   \n",
       "52     2000-03-16  1620.40  1621.20  1554.30  1562.2   Thursday             3   \n",
       "53     2000-03-21  1563.30  1585.25  1542.65  1556.6    Tuesday             1   \n",
       "54     2000-03-22  1551.05  1604.00  1551.05  1589.6  Wednesday             2   \n",
       "55     2000-03-23  1590.30  1629.20  1544.50  1553.4   Thursday             3   \n",
       "56     2000-03-24  1554.20  1579.40  1540.45  1569.5     Friday             4   \n",
       "57     2000-03-27  1570.45  1593.30  1555.75  1562.9     Monday             0   \n",
       "58     2000-03-28  1563.30  1575.85  1527.55  1568.6    Tuesday             1   \n",
       "59     2000-03-29  1569.30  1609.40  1553.40  1558.2  Wednesday             2   \n",
       "\n",
       "    weeknumber  \n",
       "0            0  \n",
       "1            0  \n",
       "2            0  \n",
       "3            0  \n",
       "4            1  \n",
       "5            1  \n",
       "6            1  \n",
       "7            1  \n",
       "8            1  \n",
       "9            2  \n",
       "10           2  \n",
       "11           2  \n",
       "12           2  \n",
       "13           2  \n",
       "14           3  \n",
       "15           3  \n",
       "16           3  \n",
       "17           3  \n",
       "18           4  \n",
       "19           4  \n",
       "20           4  \n",
       "21           4  \n",
       "22           4  \n",
       "23           5  \n",
       "24           5  \n",
       "25           5  \n",
       "26           5  \n",
       "27           5  \n",
       "28           6  \n",
       "29           6  \n",
       "30           6  \n",
       "31           6  \n",
       "32           6  \n",
       "33           7  \n",
       "34           7  \n",
       "35           7  \n",
       "36           7  \n",
       "37           7  \n",
       "38           8  \n",
       "39           8  \n",
       "40           8  \n",
       "41           8  \n",
       "42           8  \n",
       "43           9  \n",
       "44           9  \n",
       "45           9  \n",
       "46           9  \n",
       "47           9  \n",
       "48          10  \n",
       "49          10  \n",
       "50          10  \n",
       "51          10  \n",
       "52          10  \n",
       "53          11  \n",
       "54          11  \n",
       "55          11  \n",
       "56          12  \n",
       "57          12  \n",
       "58          12  \n",
       "59          12  "
      ]
     },
     "execution_count": 223,
     "metadata": {},
     "output_type": "execute_result"
    }
   ],
   "source": [
    "nifty_df[0:60]"
   ]
  },
  {
   "cell_type": "code",
   "execution_count": 78,
   "metadata": {
    "executionInfo": {
     "elapsed": 475,
     "status": "ok",
     "timestamp": 1702621520787,
     "user": {
      "displayName": "Shankar Narayanan G R",
      "userId": "06073656442154612321"
     },
     "user_tz": -330
    },
    "id": "fxXTOpY-F6Sz",
    "tags": []
   },
   "outputs": [
    {
     "data": {
      "text/html": [
       "<div>\n",
       "<style scoped>\n",
       "    .dataframe tbody tr th:only-of-type {\n",
       "        vertical-align: middle;\n",
       "    }\n",
       "\n",
       "    .dataframe tbody tr th {\n",
       "        vertical-align: top;\n",
       "    }\n",
       "\n",
       "    .dataframe thead th {\n",
       "        text-align: right;\n",
       "    }\n",
       "</style>\n",
       "<table border=\"1\" class=\"dataframe\">\n",
       "  <thead>\n",
       "    <tr style=\"text-align: right;\">\n",
       "      <th></th>\n",
       "      <th>historicaldate</th>\n",
       "      <th>open</th>\n",
       "      <th>high</th>\n",
       "      <th>low</th>\n",
       "      <th>close</th>\n",
       "      <th>dayofweek</th>\n",
       "      <th>weeknumber</th>\n",
       "    </tr>\n",
       "  </thead>\n",
       "  <tbody>\n",
       "    <tr>\n",
       "      <th>0</th>\n",
       "      <td>2000-01-03</td>\n",
       "      <td>1482.15</td>\n",
       "      <td>1592.90</td>\n",
       "      <td>1482.15</td>\n",
       "      <td>1592.20</td>\n",
       "      <td>Monday</td>\n",
       "      <td>1</td>\n",
       "    </tr>\n",
       "    <tr>\n",
       "      <th>1</th>\n",
       "      <td>2000-01-04</td>\n",
       "      <td>1594.40</td>\n",
       "      <td>1641.95</td>\n",
       "      <td>1594.40</td>\n",
       "      <td>1638.70</td>\n",
       "      <td>Tuesday</td>\n",
       "      <td>1</td>\n",
       "    </tr>\n",
       "    <tr>\n",
       "      <th>2</th>\n",
       "      <td>2000-01-05</td>\n",
       "      <td>1634.55</td>\n",
       "      <td>1635.50</td>\n",
       "      <td>1555.05</td>\n",
       "      <td>1595.80</td>\n",
       "      <td>Wednesday</td>\n",
       "      <td>1</td>\n",
       "    </tr>\n",
       "    <tr>\n",
       "      <th>3</th>\n",
       "      <td>2000-01-06</td>\n",
       "      <td>1595.80</td>\n",
       "      <td>1639.00</td>\n",
       "      <td>1595.80</td>\n",
       "      <td>1617.60</td>\n",
       "      <td>Thursday</td>\n",
       "      <td>1</td>\n",
       "    </tr>\n",
       "    <tr>\n",
       "      <th>4</th>\n",
       "      <td>2000-01-07</td>\n",
       "      <td>1616.60</td>\n",
       "      <td>1628.25</td>\n",
       "      <td>1597.20</td>\n",
       "      <td>1613.30</td>\n",
       "      <td>Friday</td>\n",
       "      <td>1</td>\n",
       "    </tr>\n",
       "    <tr>\n",
       "      <th>...</th>\n",
       "      <td>...</td>\n",
       "      <td>...</td>\n",
       "      <td>...</td>\n",
       "      <td>...</td>\n",
       "      <td>...</td>\n",
       "      <td>...</td>\n",
       "      <td>...</td>\n",
       "    </tr>\n",
       "    <tr>\n",
       "      <th>5943</th>\n",
       "      <td>2023-11-23</td>\n",
       "      <td>19828.45</td>\n",
       "      <td>19875.15</td>\n",
       "      <td>19786.75</td>\n",
       "      <td>19802.00</td>\n",
       "      <td>Thursday</td>\n",
       "      <td>47</td>\n",
       "    </tr>\n",
       "    <tr>\n",
       "      <th>5944</th>\n",
       "      <td>2023-11-24</td>\n",
       "      <td>19809.60</td>\n",
       "      <td>19832.85</td>\n",
       "      <td>19768.85</td>\n",
       "      <td>19794.70</td>\n",
       "      <td>Friday</td>\n",
       "      <td>47</td>\n",
       "    </tr>\n",
       "    <tr>\n",
       "      <th>5945</th>\n",
       "      <td>2023-11-28</td>\n",
       "      <td>19844.65</td>\n",
       "      <td>19916.85</td>\n",
       "      <td>19800.00</td>\n",
       "      <td>19889.70</td>\n",
       "      <td>Tuesday</td>\n",
       "      <td>48</td>\n",
       "    </tr>\n",
       "    <tr>\n",
       "      <th>5946</th>\n",
       "      <td>2023-11-29</td>\n",
       "      <td>19976.55</td>\n",
       "      <td>20104.65</td>\n",
       "      <td>19956.30</td>\n",
       "      <td>20096.60</td>\n",
       "      <td>Wednesday</td>\n",
       "      <td>48</td>\n",
       "    </tr>\n",
       "    <tr>\n",
       "      <th>5947</th>\n",
       "      <td>2023-11-30</td>\n",
       "      <td>20108.50</td>\n",
       "      <td>20158.70</td>\n",
       "      <td>20015.85</td>\n",
       "      <td>20133.15</td>\n",
       "      <td>Thursday</td>\n",
       "      <td>48</td>\n",
       "    </tr>\n",
       "  </tbody>\n",
       "</table>\n",
       "<p>5948 rows × 7 columns</p>\n",
       "</div>"
      ],
      "text/plain": [
       "     historicaldate      open      high       low     close  dayofweek  \\\n",
       "0        2000-01-03   1482.15   1592.90   1482.15   1592.20     Monday   \n",
       "1        2000-01-04   1594.40   1641.95   1594.40   1638.70    Tuesday   \n",
       "2        2000-01-05   1634.55   1635.50   1555.05   1595.80  Wednesday   \n",
       "3        2000-01-06   1595.80   1639.00   1595.80   1617.60   Thursday   \n",
       "4        2000-01-07   1616.60   1628.25   1597.20   1613.30     Friday   \n",
       "...             ...       ...       ...       ...       ...        ...   \n",
       "5943     2023-11-23  19828.45  19875.15  19786.75  19802.00   Thursday   \n",
       "5944     2023-11-24  19809.60  19832.85  19768.85  19794.70     Friday   \n",
       "5945     2023-11-28  19844.65  19916.85  19800.00  19889.70    Tuesday   \n",
       "5946     2023-11-29  19976.55  20104.65  19956.30  20096.60  Wednesday   \n",
       "5947     2023-11-30  20108.50  20158.70  20015.85  20133.15   Thursday   \n",
       "\n",
       "      weeknumber  \n",
       "0              1  \n",
       "1              1  \n",
       "2              1  \n",
       "3              1  \n",
       "4              1  \n",
       "...          ...  \n",
       "5943          47  \n",
       "5944          47  \n",
       "5945          48  \n",
       "5946          48  \n",
       "5947          48  \n",
       "\n",
       "[5948 rows x 7 columns]"
      ]
     },
     "execution_count": 78,
     "metadata": {},
     "output_type": "execute_result"
    }
   ],
   "source": [
    "nifty_df"
   ]
  },
  {
   "cell_type": "markdown",
   "metadata": {
    "id": "pMr03ay2jgpQ"
   },
   "source": [
    "## Calculating Expected Move of Index\n",
    "Expected Move = Stock Price x (IV/100) x square root of (DTE/365)\n",
    "\n",
    "## Tastytrade method\n",
    "* Target Expiry\n",
    "* ATM Straddle * 0.6\n",
    "* 1 OTM Strangle * 0.3\n",
    "* 2 OTM Strangle * 0.1"
   ]
  },
  {
   "cell_type": "code",
   "execution_count": null,
   "metadata": {
    "executionInfo": {
     "elapsed": 15,
     "status": "ok",
     "timestamp": 1702620035253,
     "user": {
      "displayName": "Shankar Narayanan G R",
      "userId": "06073656442154612321"
     },
     "user_tz": -330
    },
    "id": "2R0xx3BPjgpQ"
   },
   "outputs": [],
   "source": []
  }
 ],
 "metadata": {
  "colab": {
   "provenance": []
  },
  "kernelspec": {
   "display_name": "Python 3 (ipykernel)",
   "language": "python",
   "name": "python3"
  },
  "language_info": {
   "codemirror_mode": {
    "name": "ipython",
    "version": 3
   },
   "file_extension": ".py",
   "mimetype": "text/x-python",
   "name": "python",
   "nbconvert_exporter": "python",
   "pygments_lexer": "ipython3",
   "version": "3.10.12"
  }
 },
 "nbformat": 4,
 "nbformat_minor": 4
}
